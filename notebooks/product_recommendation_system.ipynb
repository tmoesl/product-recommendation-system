{
 "cells": [
  {
   "cell_type": "markdown",
   "metadata": {},
   "source": [
    "---"
   ]
  },
  {
   "cell_type": "markdown",
   "metadata": {},
   "source": [
    "# Project: Amazon Product Recommendation System"
   ]
  },
  {
   "cell_type": "markdown",
   "metadata": {},
   "source": [
    "## Introduction"
   ]
  },
  {
   "cell_type": "markdown",
   "metadata": {},
   "source": [
    "Welcome to the project on Recommendation Systems. We will work with the Amazon product reviews dataset for this project. The dataset contains ratings of different electronic products. It does not include information about the products or reviews to avoid bias while building the model. \n",
    "\n",
    "\n",
    "### Context\n",
    "\n",
    "Today, information is growing exponentially with volume, velocity and variety throughout the globe. This has lead to information overload, and too many choices for the consumer of any business. It represents a real dilemma for these consumers and they often turn to denial. Recommender Systems are one of the best tools that help recommending products to consumers while they are browsing online. Providing personalized recommendations which is most relevant for the user is what's most likely to keep them engaged and help business. \n",
    "\n",
    "E-commerce websites like Amazon, Walmart, Target and Etsy use different recommendation models to provide personalized suggestions to different users. These companies spend millions of dollars to come up with algorithmic techniques that can provide personalized recommendations to their users.\n",
    "\n",
    "Amazon, for example, is well-known for its accurate selection of recommendations in its online site. Amazon's recommendation system is capable of intelligently analyzing and predicting customers' shopping preferences in order to offer them a list of recommended products. Amazon's recommendation algorithm is therefore a key element in using AI to improve the personalization of its website. For example, one of the baseline recommendation models that Amazon uses is item-to-item collaborative filtering, which scales to massive data sets and produces high-quality recommendations in real-time.\n",
    "\n",
    "### Objective\n",
    "\n",
    "You are a Data Science Manager at Amazon, and have been given the task of building a recommendation system to recommend products to customers based on their previous ratings for other products. You have a collection of labeled data of Amazon reviews of products. The goal is to extract meaningful insights from the data and build a recommendation system that helps in recommending products to online consumers.\n",
    "- Knowledge/Rank Based Recommendation System\n",
    "- Similarity-Based Collaborative Filtering\n",
    "- Matrix Factorization Based Collaborative Filtering\n",
    "\n",
    "### Data Description\n",
    "\n",
    "The Amazon dataset contains the following attributes\n",
    "\n",
    "- user_id: Every user identified with a unique id\n",
    "- prod_Id: Every product identified with a unique id\n",
    "- rating: The rating of the corresponding product by the corresponding user\n",
    "- timestamp: Time of the rating. We **will not use this column** to solve the current problem"
   ]
  },
  {
   "cell_type": "markdown",
   "metadata": {},
   "source": [
    "---"
   ]
  },
  {
   "cell_type": "markdown",
   "metadata": {},
   "source": [
    "## Importing Necessary Libraries and Data"
   ]
  },
  {
   "cell_type": "markdown",
   "metadata": {},
   "source": [
    "This section sets up the environment by importing tools for data manipulation, visualization, handling special characters, and conducting statistical analysis"
   ]
  },
  {
   "cell_type": "code",
   "execution_count": 1,
   "metadata": {},
   "outputs": [],
   "source": [
    "# from google.colab import drive\n",
    "# drive.mount('/content/drive')"
   ]
  },
  {
   "cell_type": "code",
   "execution_count": 2,
   "metadata": {},
   "outputs": [],
   "source": [
    "# Import library to suppress warnings\n",
    "import warnings\n",
    "\n",
    "warnings.filterwarnings(\"ignore\")"
   ]
  },
  {
   "cell_type": "code",
   "execution_count": 3,
   "metadata": {},
   "outputs": [],
   "source": [
    "# ----------------------------------------------------------------------\n",
    "# Standard libraries for data manipulation, visualization, and utilities\n",
    "# ----------------------------------------------------------------------\n",
    "\n",
    "# Data manipulation\n",
    "import numpy as np\n",
    "import pandas as pd\n",
    "import math\n",
    "\n",
    "# Data visualization\n",
    "import matplotlib.pyplot as plt\n",
    "from matplotlib.gridspec import GridSpec\n",
    "import seaborn as sns\n",
    "%matplotlib inline\n",
    "\n",
    "# Random sampling\n",
    "import random\n",
    "\n",
    "# Collection utilities\n",
    "from collections import defaultdict  # Dictionary that avoids key errors\n",
    "\n",
    "# Jupyter notebook display utilities\n",
    "from IPython.display import display, Markdown\n",
    "\n",
    "# ----------------------------------------------------------------------\n",
    "# Surprise library for recommendation systems\n",
    "# ----------------------------------------------------------------------\n",
    "\n",
    "# Accuracy metrics\n",
    "from surprise import accuracy\n",
    "\n",
    "# Data loading and parsing\n",
    "from surprise.reader import Reader  # Data parsing (user ; item ; rating structure)\n",
    "from surprise.dataset import Dataset  # Dataset loading\n",
    "\n",
    "# Model tuning, data splitting and evaluation\n",
    "from surprise.model_selection import GridSearchCV, train_test_split, cross_validate\n",
    "\n",
    "# Similarity-based recommendation systems\n",
    "from surprise.prediction_algorithms.knns import (\n",
    "    KNNBasic,\n",
    "    KNNBaseline,\n",
    "    KNNWithMeans,\n",
    "    KNNWithZScore,\n",
    ")\n",
    "\n",
    "# Matrix factorization algorithms\n",
    "from surprise.prediction_algorithms.matrix_factorization import SVD, SVDpp"
   ]
  },
  {
   "cell_type": "markdown",
   "metadata": {},
   "source": [
    "---"
   ]
  },
  {
   "cell_type": "markdown",
   "metadata": {},
   "source": [
    "## Loading Data"
   ]
  },
  {
   "cell_type": "markdown",
   "metadata": {},
   "source": [
    "This section involves reading the dataset from a CSV file into a pandas DataFrame for further analysis."
   ]
  },
  {
   "cell_type": "code",
   "execution_count": 4,
   "metadata": {},
   "outputs": [
    {
     "data": {
      "text/plain": [
       "(7824482, 3)"
      ]
     },
     "execution_count": 4,
     "metadata": {},
     "output_type": "execute_result"
    }
   ],
   "source": [
    "# Read the DataFrame\n",
    "data = pd.read_csv(\"ratings_Electronics.csv\", header=None)\n",
    "\n",
    "# Add column names\n",
    "data.columns = [\"user_id\", \"prod_id\", \"rating\", \"timestamp\"]\n",
    "\n",
    "# Drop colum 'timestamp'\n",
    "data = data.drop(\"timestamp\", axis=1)\n",
    "\n",
    "# Create copy of the DataFrame\n",
    "df = data.copy(deep=True)\n",
    "\n",
    "# Check number of rows and columns in the dataset\n",
    "df.shape"
   ]
  },
  {
   "cell_type": "markdown",
   "metadata": {},
   "source": [
    "## Data Preprocessing"
   ]
  },
  {
   "cell_type": "markdown",
   "metadata": {},
   "source": [
    "Given the dataset's vast size of 7.8 million observations and the sparsity in user and product ratings, an initial approach was taken to reduce the dataset by filtering for users with at least 50 ratings and products with at least 5 ratings.\n",
    "\n",
    "However, this approach led to a recursive loop issue, where the filtered dataset caused some users to no longer meet the rating threshold, leading to continuous data loss. To resolve this, a balanced filtering strategy was implemented, gradually adjusting thresholds with convergence checks to stabilize the dataset size, ensuring that significant data was retained without excessive reduction."
   ]
  },
  {
   "cell_type": "code",
   "execution_count": 5,
   "metadata": {},
   "outputs": [],
   "source": [
    "# Define initial thresholds\n",
    "user_threshold = 25\n",
    "product_threshold = 5\n",
    "\n",
    "# Define maximum threshold increments for iterative filtering\n",
    "max_user_threshold = 50\n",
    "max_product_threshold = 10\n",
    "\n",
    "# Set convergence flag and initial dataset size\n",
    "converged = False\n",
    "prev_size = df.shape[0]"
   ]
  },
  {
   "cell_type": "code",
   "execution_count": 6,
   "metadata": {},
   "outputs": [
    {
     "name": "stdout",
     "output_type": "stream",
     "text": [
      "user_threshold: 31\n",
      "product_threshold: 3\n"
     ]
    }
   ],
   "source": [
    "# Initial filtering with low thresholds\n",
    "user_ratings_count = df[\"user_id\"].value_counts()\n",
    "df = df[\n",
    "    df[\"user_id\"].isin(user_ratings_count[user_ratings_count >= user_threshold].index)\n",
    "]\n",
    "\n",
    "product_ratings_count = df[\"prod_id\"].value_counts()\n",
    "df = df[\n",
    "    df[\"prod_id\"].isin(\n",
    "        product_ratings_count[product_ratings_count >= product_threshold].index\n",
    "    )\n",
    "]\n",
    "\n",
    "# Set initial values for convergence check\n",
    "prev_size = df.shape[0]\n",
    "converged = False\n",
    "\n",
    "while not converged:\n",
    "    # Increment thresholds gradually\n",
    "    if user_threshold < max_user_threshold:\n",
    "        user_threshold += 5  # Increase user threshold incrementally\n",
    "    if product_threshold < max_product_threshold:\n",
    "        product_threshold += 1  # Increase product threshold incrementally\n",
    "\n",
    "    # Filter users with at least the current user threshold ratings\n",
    "    user_ratings_count = df[\"user_id\"].value_counts()\n",
    "    df = df[\n",
    "        df[\"user_id\"].isin(\n",
    "            user_ratings_count[user_ratings_count >= user_threshold].index\n",
    "        )\n",
    "    ]\n",
    "\n",
    "    # Filter products with at least the current product threshold ratings\n",
    "    product_ratings_count = df[\"prod_id\"].value_counts()\n",
    "    df = df[\n",
    "        df[\"prod_id\"].isin(\n",
    "            product_ratings_count[product_ratings_count >= product_threshold].index\n",
    "        )\n",
    "    ]\n",
    "\n",
    "    # Check the current size of the dataset\n",
    "    current_size = df.shape[0]\n",
    "\n",
    "    # Check for convergence: if the dataset size decreases significantly, stop iterating\n",
    "    if abs(prev_size - current_size) > 1000:  # Adjust this value as needed\n",
    "        converged = True\n",
    "    else:\n",
    "        prev_size = current_size\n",
    "\n",
    "    # If thresholds have reached maximum but no significant change, break to avoid infinite loop\n",
    "    if (\n",
    "        user_threshold >= max_user_threshold\n",
    "        and product_threshold >= max_product_threshold\n",
    "    ):\n",
    "        print(\"Reached maximum thresholds without significant change. Stopping.\")\n",
    "        break\n",
    "\n",
    "# Final thresholds applied\n",
    "print(f\"user_threshold: {user_threshold}\")\n",
    "print(f\"product_threshold: {product_threshold}\")"
   ]
  },
  {
   "cell_type": "code",
   "execution_count": 7,
   "metadata": {},
   "outputs": [],
   "source": [
    "# Reset index of dataset\n",
    "df.reset_index(drop=True, inplace=True)"
   ]
  },
  {
   "cell_type": "markdown",
   "metadata": {},
   "source": [
    "## Data Overview"
   ]
  },
  {
   "cell_type": "markdown",
   "metadata": {},
   "source": [
    "This section provides a high-level summary of the DataFrame, including the dimensions, data types, and an initial look at the first and last few rows. It checks for duplicate records and counts the unique values for each feature, confirming data integrity and providing an overview of the dataset’s structure."
   ]
  },
  {
   "cell_type": "markdown",
   "metadata": {},
   "source": [
    "### High-Level Data Information"
   ]
  },
  {
   "cell_type": "code",
   "execution_count": 8,
   "metadata": {},
   "outputs": [
    {
     "data": {
      "text/plain": [
       "(131109, 3)"
      ]
     },
     "execution_count": 8,
     "metadata": {},
     "output_type": "execute_result"
    }
   ],
   "source": [
    "# Number of rows and columns\n",
    "df.shape"
   ]
  },
  {
   "cell_type": "code",
   "execution_count": 9,
   "metadata": {},
   "outputs": [
    {
     "data": {
      "text/html": [
       "<div>\n",
       "<style scoped>\n",
       "    .dataframe tbody tr th:only-of-type {\n",
       "        vertical-align: middle;\n",
       "    }\n",
       "\n",
       "    .dataframe tbody tr th {\n",
       "        vertical-align: top;\n",
       "    }\n",
       "\n",
       "    .dataframe thead th {\n",
       "        text-align: right;\n",
       "    }\n",
       "</style>\n",
       "<table border=\"1\" class=\"dataframe\">\n",
       "  <thead>\n",
       "    <tr style=\"text-align: right;\">\n",
       "      <th></th>\n",
       "      <th>user_id</th>\n",
       "      <th>prod_id</th>\n",
       "      <th>rating</th>\n",
       "    </tr>\n",
       "  </thead>\n",
       "  <tbody>\n",
       "    <tr>\n",
       "      <th>0</th>\n",
       "      <td>A3BMUBUC1N77U8</td>\n",
       "      <td>0972683275</td>\n",
       "      <td>4.0</td>\n",
       "    </tr>\n",
       "    <tr>\n",
       "      <th>1</th>\n",
       "      <td>A6J8D9V5S9MBE</td>\n",
       "      <td>0972683275</td>\n",
       "      <td>5.0</td>\n",
       "    </tr>\n",
       "    <tr>\n",
       "      <th>2</th>\n",
       "      <td>A3CLWR1UUZT6TG</td>\n",
       "      <td>0972683275</td>\n",
       "      <td>5.0</td>\n",
       "    </tr>\n",
       "    <tr>\n",
       "      <th>3</th>\n",
       "      <td>A11NR4AJK9TNQM</td>\n",
       "      <td>0972683275</td>\n",
       "      <td>4.0</td>\n",
       "    </tr>\n",
       "    <tr>\n",
       "      <th>4</th>\n",
       "      <td>A3TAS1AG6FMBQW</td>\n",
       "      <td>0972683275</td>\n",
       "      <td>5.0</td>\n",
       "    </tr>\n",
       "  </tbody>\n",
       "</table>\n",
       "</div>"
      ],
      "text/plain": [
       "          user_id     prod_id  rating\n",
       "0  A3BMUBUC1N77U8  0972683275     4.0\n",
       "1   A6J8D9V5S9MBE  0972683275     5.0\n",
       "2  A3CLWR1UUZT6TG  0972683275     5.0\n",
       "3  A11NR4AJK9TNQM  0972683275     4.0\n",
       "4  A3TAS1AG6FMBQW  0972683275     5.0"
      ]
     },
     "execution_count": 9,
     "metadata": {},
     "output_type": "execute_result"
    }
   ],
   "source": [
    "# First 5 rows\n",
    "df.head()"
   ]
  },
  {
   "cell_type": "code",
   "execution_count": 10,
   "metadata": {},
   "outputs": [
    {
     "data": {
      "text/html": [
       "<div>\n",
       "<style scoped>\n",
       "    .dataframe tbody tr th:only-of-type {\n",
       "        vertical-align: middle;\n",
       "    }\n",
       "\n",
       "    .dataframe tbody tr th {\n",
       "        vertical-align: top;\n",
       "    }\n",
       "\n",
       "    .dataframe thead th {\n",
       "        text-align: right;\n",
       "    }\n",
       "</style>\n",
       "<table border=\"1\" class=\"dataframe\">\n",
       "  <thead>\n",
       "    <tr style=\"text-align: right;\">\n",
       "      <th></th>\n",
       "      <th>user_id</th>\n",
       "      <th>prod_id</th>\n",
       "      <th>rating</th>\n",
       "    </tr>\n",
       "  </thead>\n",
       "  <tbody>\n",
       "    <tr>\n",
       "      <th>131104</th>\n",
       "      <td>A34BZM6S9L7QI4</td>\n",
       "      <td>B00LGQ6HL8</td>\n",
       "      <td>5.0</td>\n",
       "    </tr>\n",
       "    <tr>\n",
       "      <th>131105</th>\n",
       "      <td>A1G650TTTHEAL5</td>\n",
       "      <td>B00LGQ6HL8</td>\n",
       "      <td>5.0</td>\n",
       "    </tr>\n",
       "    <tr>\n",
       "      <th>131106</th>\n",
       "      <td>A25C2M3QF9G7OQ</td>\n",
       "      <td>B00LGQ6HL8</td>\n",
       "      <td>5.0</td>\n",
       "    </tr>\n",
       "    <tr>\n",
       "      <th>131107</th>\n",
       "      <td>A1E1LEVQ9VQNK</td>\n",
       "      <td>B00LGQ6HL8</td>\n",
       "      <td>5.0</td>\n",
       "    </tr>\n",
       "    <tr>\n",
       "      <th>131108</th>\n",
       "      <td>A2NYK9KWFMJV4Y</td>\n",
       "      <td>B00LGQ6HL8</td>\n",
       "      <td>5.0</td>\n",
       "    </tr>\n",
       "  </tbody>\n",
       "</table>\n",
       "</div>"
      ],
      "text/plain": [
       "               user_id     prod_id  rating\n",
       "131104  A34BZM6S9L7QI4  B00LGQ6HL8     5.0\n",
       "131105  A1G650TTTHEAL5  B00LGQ6HL8     5.0\n",
       "131106  A25C2M3QF9G7OQ  B00LGQ6HL8     5.0\n",
       "131107   A1E1LEVQ9VQNK  B00LGQ6HL8     5.0\n",
       "131108  A2NYK9KWFMJV4Y  B00LGQ6HL8     5.0"
      ]
     },
     "execution_count": 10,
     "metadata": {},
     "output_type": "execute_result"
    }
   ],
   "source": [
    "# Last 5 rows\n",
    "df.tail()"
   ]
  },
  {
   "cell_type": "code",
   "execution_count": 11,
   "metadata": {},
   "outputs": [
    {
     "name": "stdout",
     "output_type": "stream",
     "text": [
      "<class 'pandas.core.frame.DataFrame'>\n",
      "RangeIndex: 131109 entries, 0 to 131108\n",
      "Data columns (total 3 columns):\n",
      " #   Column   Non-Null Count   Dtype  \n",
      "---  ------   --------------   -----  \n",
      " 0   user_id  131109 non-null  object \n",
      " 1   prod_id  131109 non-null  object \n",
      " 2   rating   131109 non-null  float64\n",
      "dtypes: float64(1), object(2)\n",
      "memory usage: 3.0+ MB\n"
     ]
    }
   ],
   "source": [
    "# Summary of DataFrame\n",
    "df.info()"
   ]
  },
  {
   "cell_type": "markdown",
   "metadata": {},
   "source": [
    "**Observations:**\n",
    "- The DataFrame has **131,109 observations and 3 columns**.\n",
    "- Data types include object and float64.\n",
    "- No missing values, as row counts match non-null counts for each column.\n",
    "- One column is numerical, the others are categorical or textual."
   ]
  },
  {
   "cell_type": "markdown",
   "metadata": {},
   "source": [
    "### Unique and Duplicate Values"
   ]
  },
  {
   "cell_type": "code",
   "execution_count": 12,
   "metadata": {},
   "outputs": [
    {
     "data": {
      "text/html": [
       "<div>\n",
       "<style scoped>\n",
       "    .dataframe tbody tr th:only-of-type {\n",
       "        vertical-align: middle;\n",
       "    }\n",
       "\n",
       "    .dataframe tbody tr th {\n",
       "        vertical-align: top;\n",
       "    }\n",
       "\n",
       "    .dataframe thead th {\n",
       "        text-align: right;\n",
       "    }\n",
       "</style>\n",
       "<table border=\"1\" class=\"dataframe\">\n",
       "  <thead>\n",
       "    <tr style=\"text-align: right;\">\n",
       "      <th></th>\n",
       "      <th>metric</th>\n",
       "      <th>count</th>\n",
       "    </tr>\n",
       "  </thead>\n",
       "  <tbody>\n",
       "    <tr>\n",
       "      <th>0</th>\n",
       "      <td>duplicate_rows</td>\n",
       "      <td>0</td>\n",
       "    </tr>\n",
       "  </tbody>\n",
       "</table>\n",
       "</div>"
      ],
      "text/plain": [
       "           metric  count\n",
       "0  duplicate_rows      0"
      ]
     },
     "execution_count": 12,
     "metadata": {},
     "output_type": "execute_result"
    }
   ],
   "source": [
    "# Number of duplicate rows\n",
    "dvalues = df.duplicated().sum()\n",
    "\n",
    "# Convert into DataFrame\n",
    "duplicate_df = pd.DataFrame({\"metric\": [\"duplicate_rows\"], \"count\": [dvalues]})\n",
    "\n",
    "# Display DataFrame\n",
    "duplicate_df"
   ]
  },
  {
   "cell_type": "code",
   "execution_count": 13,
   "metadata": {},
   "outputs": [
    {
     "data": {
      "text/html": [
       "<div>\n",
       "<style scoped>\n",
       "    .dataframe tbody tr th:only-of-type {\n",
       "        vertical-align: middle;\n",
       "    }\n",
       "\n",
       "    .dataframe tbody tr th {\n",
       "        vertical-align: top;\n",
       "    }\n",
       "\n",
       "    .dataframe thead th {\n",
       "        text-align: right;\n",
       "    }\n",
       "</style>\n",
       "<table border=\"1\" class=\"dataframe\">\n",
       "  <thead>\n",
       "    <tr style=\"text-align: right;\">\n",
       "      <th></th>\n",
       "      <th>feature</th>\n",
       "      <th>unique values</th>\n",
       "    </tr>\n",
       "  </thead>\n",
       "  <tbody>\n",
       "    <tr>\n",
       "      <th>0</th>\n",
       "      <td>user_id</td>\n",
       "      <td>2964</td>\n",
       "    </tr>\n",
       "    <tr>\n",
       "      <th>1</th>\n",
       "      <td>prod_id</td>\n",
       "      <td>14571</td>\n",
       "    </tr>\n",
       "    <tr>\n",
       "      <th>2</th>\n",
       "      <td>rating</td>\n",
       "      <td>5</td>\n",
       "    </tr>\n",
       "  </tbody>\n",
       "</table>\n",
       "</div>"
      ],
      "text/plain": [
       "   feature  unique values\n",
       "0  user_id           2964\n",
       "1  prod_id          14571\n",
       "2   rating              5"
      ]
     },
     "execution_count": 13,
     "metadata": {},
     "output_type": "execute_result"
    }
   ],
   "source": [
    "# Number of unique values per feature\n",
    "nuniq = df.nunique().reset_index()\n",
    "\n",
    "# Rename column names\n",
    "nuniq.columns = [\"feature\", \"unique values\"]\n",
    "\n",
    "# Display DataFrame\n",
    "nuniq"
   ]
  },
  {
   "cell_type": "markdown",
   "metadata": {},
   "source": [
    "**Observations**:\n",
    "- **Duplicate Records**: The dataset is free of duplicate entries, ensuring the integrity of the data.\n",
    "- **User and Product Data:** There are **2,964 users** and **14,571 products**.\n",
    "- **Rating Data:** A total of **43,188,444** possible ratings, the dataset includes only 131,109 ratings, resulting in a sparse dataset for the recommendation system, as not every user has rated every product.\n",
    "- **Additional Details:** More insights and specifics are provided in the subsequent sections."
   ]
  },
  {
   "cell_type": "markdown",
   "metadata": {},
   "source": [
    "## Exploratory Data Analysis"
   ]
  },
  {
   "cell_type": "markdown",
   "metadata": {},
   "source": [
    "### Statistical Analysis of DataFrame"
   ]
  },
  {
   "cell_type": "code",
   "execution_count": 14,
   "metadata": {},
   "outputs": [],
   "source": [
    "# Select categorical and numerical columns\n",
    "cat_cols = list(df.select_dtypes(include=[\"object\"]).columns)\n",
    "num_cols = list(df.select_dtypes(include=[np.number]).columns)"
   ]
  },
  {
   "cell_type": "markdown",
   "metadata": {},
   "source": [
    "#### Analysis of Numerical Data"
   ]
  },
  {
   "cell_type": "code",
   "execution_count": 15,
   "metadata": {},
   "outputs": [
    {
     "data": {
      "text/html": [
       "<div>\n",
       "<style scoped>\n",
       "    .dataframe tbody tr th:only-of-type {\n",
       "        vertical-align: middle;\n",
       "    }\n",
       "\n",
       "    .dataframe tbody tr th {\n",
       "        vertical-align: top;\n",
       "    }\n",
       "\n",
       "    .dataframe thead th {\n",
       "        text-align: right;\n",
       "    }\n",
       "</style>\n",
       "<table border=\"1\" class=\"dataframe\">\n",
       "  <thead>\n",
       "    <tr style=\"text-align: right;\">\n",
       "      <th></th>\n",
       "      <th>count</th>\n",
       "      <th>mean</th>\n",
       "      <th>std</th>\n",
       "      <th>min</th>\n",
       "      <th>25%</th>\n",
       "      <th>50%</th>\n",
       "      <th>75%</th>\n",
       "      <th>max</th>\n",
       "    </tr>\n",
       "  </thead>\n",
       "  <tbody>\n",
       "    <tr>\n",
       "      <th>rating</th>\n",
       "      <td>131109.0</td>\n",
       "      <td>4.29</td>\n",
       "      <td>1.02</td>\n",
       "      <td>1.0</td>\n",
       "      <td>4.0</td>\n",
       "      <td>5.0</td>\n",
       "      <td>5.0</td>\n",
       "      <td>5.0</td>\n",
       "    </tr>\n",
       "  </tbody>\n",
       "</table>\n",
       "</div>"
      ],
      "text/plain": [
       "           count  mean   std  min  25%  50%  75%  max\n",
       "rating  131109.0  4.29  1.02  1.0  4.0  5.0  5.0  5.0"
      ]
     },
     "execution_count": 15,
     "metadata": {},
     "output_type": "execute_result"
    }
   ],
   "source": [
    "# Statistical summary of numerical data\n",
    "df[num_cols].describe().T.round(2)"
   ]
  },
  {
   "cell_type": "markdown",
   "metadata": {},
   "source": [
    "**Observations**:\n",
    "- **rating**: There are 131,109 unique ratings. The data is skewed towards higher values, with a mean of 4.29 and the majority of ratings at 5.0, indicating that most users rate their experiences positively."
   ]
  },
  {
   "cell_type": "markdown",
   "metadata": {},
   "source": [
    "#### Analysis of Categorical Data"
   ]
  },
  {
   "cell_type": "code",
   "execution_count": 16,
   "metadata": {},
   "outputs": [
    {
     "data": {
      "text/html": [
       "<div>\n",
       "<style scoped>\n",
       "    .dataframe tbody tr th:only-of-type {\n",
       "        vertical-align: middle;\n",
       "    }\n",
       "\n",
       "    .dataframe tbody tr th {\n",
       "        vertical-align: top;\n",
       "    }\n",
       "\n",
       "    .dataframe thead th {\n",
       "        text-align: right;\n",
       "    }\n",
       "</style>\n",
       "<table border=\"1\" class=\"dataframe\">\n",
       "  <thead>\n",
       "    <tr style=\"text-align: right;\">\n",
       "      <th></th>\n",
       "      <th>count</th>\n",
       "      <th>unique</th>\n",
       "      <th>top</th>\n",
       "      <th>freq</th>\n",
       "    </tr>\n",
       "  </thead>\n",
       "  <tbody>\n",
       "    <tr>\n",
       "      <th>user_id</th>\n",
       "      <td>131109</td>\n",
       "      <td>2964</td>\n",
       "      <td>ADLVFFE4VBT8</td>\n",
       "      <td>360</td>\n",
       "    </tr>\n",
       "    <tr>\n",
       "      <th>prod_id</th>\n",
       "      <td>131109</td>\n",
       "      <td>14571</td>\n",
       "      <td>B0088CJT4U</td>\n",
       "      <td>302</td>\n",
       "    </tr>\n",
       "  </tbody>\n",
       "</table>\n",
       "</div>"
      ],
      "text/plain": [
       "          count unique           top freq\n",
       "user_id  131109   2964  ADLVFFE4VBT8  360\n",
       "prod_id  131109  14571    B0088CJT4U  302"
      ]
     },
     "execution_count": 16,
     "metadata": {},
     "output_type": "execute_result"
    }
   ],
   "source": [
    "# Statistical summary of categorical data\n",
    "df[cat_cols].describe().T"
   ]
  },
  {
   "cell_type": "markdown",
   "metadata": {},
   "source": [
    "**Observations**:\n",
    "- **user_id**: There are 2,964 unique users, with the most active user having rated 360 products.\n",
    "- **prod_id**: There are 14,571 unique products, with the most frequently rated product receiving 302 ratings."
   ]
  },
  {
   "cell_type": "markdown",
   "metadata": {},
   "source": [
    "### Defintion of Functions\n",
    "This subsection contains all defined functions used for subsequent univariate data analysis."
   ]
  },
  {
   "cell_type": "code",
   "execution_count": 17,
   "metadata": {},
   "outputs": [],
   "source": [
    "# Set standard color palette for plotting\n",
    "palette_colors = sns.color_palette(\"Set2\")\n",
    "\n",
    "# Set standard rating order and create custome color palette\n",
    "rating_order = [1.0, 2.0, 3.0, 4.0, 5.0]\n",
    "custom_palette = {\n",
    "    str(rating): color for rating, color in zip(rating_order, palette_colors)\n",
    "}"
   ]
  },
  {
   "cell_type": "code",
   "execution_count": 18,
   "metadata": {},
   "outputs": [],
   "source": [
    "# Function to calculate the distribution of a categorical variable\n",
    "def feature_stats(data, feature):\n",
    "    rating_percentage_df = (\n",
    "        data[feature]\n",
    "        .value_counts(normalize=True)\n",
    "        .mul(100)\n",
    "        .round(2)\n",
    "        .reset_index()\n",
    "        .rename(columns={\"index\": feature, \"proportion\": \"percentage\"})\n",
    "    )\n",
    "    print(f\"{feature.capitalize()} Distribution\")\n",
    "    print(\"-\" * 30)\n",
    "    print(rating_percentage_df.sort_values(by=feature).to_string(index=False))\n",
    "    print(\"-\" * 30)"
   ]
  },
  {
   "cell_type": "code",
   "execution_count": 19,
   "metadata": {},
   "outputs": [],
   "source": [
    "# Function to annotate each bar in barplot\n",
    "def annotate_bars(ax, total, perc=False):\n",
    "\n",
    "    # Annotate each bar by percentage or count\n",
    "    for container in ax.containers:\n",
    "        labels = [\n",
    "            f\"{100 * height / total:.1f}%\" if perc else f\"{height:.0f}\"\n",
    "            for height in container.datavalues\n",
    "        ]\n",
    "        ax.bar_label(container, labels=labels, label_type=\"edge\", fontsize=10)"
   ]
  },
  {
   "cell_type": "code",
   "execution_count": 20,
   "metadata": {},
   "outputs": [],
   "source": [
    "# Function to plot categorical variables with barplot and optional relative percentage annotations\n",
    "def barplot(data, feature, perc=False):\n",
    "\n",
    "    # Display the distribution statistics for the feature\n",
    "    feature_stats(data, feature)\n",
    "\n",
    "    # Compute mean and median\n",
    "    fmean = data[feature].mean()\n",
    "    fmedian = data[feature].median()\n",
    "\n",
    "    fig = plt.figure(figsize=(14, 8))\n",
    "    total = len(data[feature])\n",
    "\n",
    "    # Plot countplot\n",
    "    sns.countplot(\n",
    "        data=data,\n",
    "        x=feature,\n",
    "        palette=custom_palette,\n",
    "        order=rating_order,\n",
    "    )\n",
    "\n",
    "    # Add title\n",
    "    ax = plt.gca()\n",
    "    formatted_title = feature.replace(\"_\", \" \").title()\n",
    "    ax.set_title(f\"Distribution of {formatted_title}\")\n",
    "\n",
    "    # Annotate each bar by percentage or count\n",
    "    annotate_bars(ax, total, perc)\n",
    "\n",
    "    # Adjust layout and show the plot\n",
    "    plt.tight_layout(pad=2.0)\n",
    "    plt.show()\n",
    "\n",
    "    # Print the key statistics\n",
    "    print(f\"Mean: {np.round(fmean, 2)}, Median: {np.round(fmedian, 2)}\")"
   ]
  },
  {
   "cell_type": "code",
   "execution_count": 21,
   "metadata": {},
   "outputs": [],
   "source": [
    "# Function to plot interaction data distribution with histplot\n",
    "def plot_interaction_histplot(data, groupby_feature, select_feature, ax):\n",
    "\n",
    "    # Finding user-item interactions distribution\n",
    "    count_interactions = data.groupby(groupby_feature)[select_feature].count()\n",
    "\n",
    "    # Calculate mean and median\n",
    "    mean_val = count_interactions.mean()\n",
    "    median_val = count_interactions.median()\n",
    "    max_val = count_interactions.max()\n",
    "\n",
    "    # Calculate xlim rounded up to the next tick\n",
    "    xlim = np.ceil(max_val / 10) * 10\n",
    "\n",
    "    # Plot histplot\n",
    "    sns.histplot(\n",
    "        count_interactions,\n",
    "        kde=True,\n",
    "        color=\"green\",\n",
    "        edgecolor=\"darkgreen\",\n",
    "        linewidth=1.0,\n",
    "        ax=ax,\n",
    "    )\n",
    "    # Add limits, yscale (square root), titel, and label\n",
    "    ax.set_xlim(0, xlim)\n",
    "    ax.set_yscale(\"function\", functions=(np.sqrt, lambda x: x**2))\n",
    "    formatted_title = groupby_feature.replace(\"_\", \" \").title()\n",
    "    ax.set_title(f\"Distribution of {formatted_title} Interactions\")\n",
    "    ax.set_xlabel(\"Number of Interactions\")\n",
    "\n",
    "    # Adding lines for max, mean, and median values\n",
    "    ax.axvline(\n",
    "        max_val,\n",
    "        color=\"black\",\n",
    "        linestyle=\"--\",\n",
    "        linewidth=1.5,\n",
    "        label=f\"Max: {max_val:.2f}\",\n",
    "    )\n",
    "\n",
    "    ax.axvline(\n",
    "        mean_val,\n",
    "        color=\"blue\",\n",
    "        linestyle=\"-\",\n",
    "        linewidth=1.5,\n",
    "        label=f\"Mean: {mean_val:.2f}\",\n",
    "    )\n",
    "\n",
    "    ax.axvline(\n",
    "        median_val,\n",
    "        color=\"red\",\n",
    "        linestyle=\"-\",\n",
    "        linewidth=1.5,\n",
    "        label=f\"Median: {median_val:.2f}\",\n",
    "    )\n",
    "\n",
    "    # Calculate the x-coordinate for the legend\n",
    "    legend_x = max_val / xlim - 0.005\n",
    "\n",
    "    # Add legend\n",
    "    ax.legend(loc=\"upper right\", bbox_to_anchor=(legend_x, 1))\n",
    "\n",
    "    # Adjust layout and show the plot\n",
    "    plt.tight_layout(pad=2.0)\n",
    "    plt.show()"
   ]
  },
  {
   "cell_type": "code",
   "execution_count": 22,
   "metadata": {},
   "outputs": [],
   "source": [
    "# Function to plot interaction data distribution with boxplot\n",
    "def plot_interaction_boxplot(data, groupby_feature, select_feature, ax):\n",
    "\n",
    "    # Finding user-item interactions distribution\n",
    "    count_interactions = data.groupby(groupby_feature)[select_feature].count()\n",
    "\n",
    "    # Adding statistical annotations\n",
    "    max_val = count_interactions.max()\n",
    "\n",
    "    # Calculate xlim rounded up to the next tick\n",
    "    xlim = np.ceil(max_val / 10) * 10\n",
    "\n",
    "    # Plot boxplot\n",
    "    sns.boxplot(\n",
    "        x=count_interactions,\n",
    "        ax=ax,\n",
    "        color=\"#FFC877\",\n",
    "        medianprops=dict(visible=True, color=\"red\"),\n",
    "        flierprops=dict(marker=\"o\", markersize=3),\n",
    "    )\n",
    "    # Add label and limits\n",
    "    ax.set_xlim(0, xlim)\n",
    "    ax.set_xlabel(\"Number of Interactions\")\n",
    "\n",
    "    # Adjust layout and show the plot\n",
    "    plt.tight_layout(pad=2.0)\n",
    "    plt.show()"
   ]
  },
  {
   "cell_type": "code",
   "execution_count": 23,
   "metadata": {},
   "outputs": [],
   "source": [
    "# Function to calculate and print the top 10 entries with the highest counts\n",
    "def nlargest_entries(data, feature, n=10):\n",
    "    top_entries = data[feature].value_counts().nlargest(10)\n",
    "    top_entries_df = top_entries.reset_index()  # Converts Series to DataFrame\n",
    "    top_entries_df.columns = [feature, \"count\"]  # Rename columns of DataFrame\n",
    "\n",
    "    print(f\"Top {n} Entries\")\n",
    "    print(\"-\" * 30)\n",
    "    print(top_entries_df.to_string(index=False))\n",
    "    print(\"-\" * 30)\n",
    "\n",
    "    return top_entries"
   ]
  },
  {
   "cell_type": "code",
   "execution_count": 24,
   "metadata": {},
   "outputs": [],
   "source": [
    "# Function to plot categorical variables with barplot and optional relative percentage annotations\n",
    "def barplot_subplots(data, features, perc=False):\n",
    "\n",
    "    # Extract the top 10 entries based on the total number of ratings\n",
    "    top_entries = nlargest_entries(df, features[0])\n",
    "    top_entries = top_entries.index\n",
    "\n",
    "    # Determine the number of columns and rows for the subplot\n",
    "    num_ids = len(top_entries)\n",
    "    num_cols = int(math.ceil(math.sqrt(num_ids))) if num_ids != 3 else 3\n",
    "    num_rows = int(math.ceil(num_ids / num_cols))\n",
    "\n",
    "    fig, axes = plt.subplots(num_rows, num_cols, figsize=(num_cols * 5, num_rows * 5))\n",
    "    axes = axes.flatten() if num_ids > 1 else [axes]\n",
    "\n",
    "    for i, id in enumerate(top_entries):\n",
    "        data_filtered = data[data[features[0]] == id]\n",
    "        total = len(data_filtered)\n",
    "\n",
    "        ax = axes[i]\n",
    "        sns.countplot(\n",
    "            data=data_filtered,\n",
    "            x=features[1],\n",
    "            ax=ax,\n",
    "            palette=custom_palette,\n",
    "            order=rating_order,\n",
    "        )\n",
    "        ax.set_title(f\"{features[0]}: {id}\")\n",
    "\n",
    "        # Annotate each bar by percentage or count\n",
    "        annotate_bars(ax, total, perc)\n",
    "\n",
    "    # Hide any unused subplots\n",
    "    for j in range(num_ids, num_rows * num_cols):\n",
    "        fig.delaxes(axes[j])\n",
    "\n",
    "    # Adjust layout and show the plot\n",
    "    plt.tight_layout(pad=2.0)\n",
    "    plt.show()"
   ]
  },
  {
   "cell_type": "markdown",
   "metadata": {},
   "source": [
    "### Univariate Analysis of Numerical Columns\n",
    "For analysis purposes, the 'rating' column, consisting of discrete numbers from 1 to 5, will be treated as a categorical variable. This approach allows us to effectively observe its distribution and patterns."
   ]
  },
  {
   "cell_type": "markdown",
   "metadata": {},
   "source": [
    "#### Column | rating"
   ]
  },
  {
   "cell_type": "code",
   "execution_count": 66,
   "metadata": {},
   "outputs": [
    {
     "name": "stdout",
     "output_type": "stream",
     "text": [
      "Rating Distribution\n",
      "------------------------------\n",
      " rating  percentage\n",
      "    1.0        3.35\n",
      "    2.0        4.01\n",
      "    3.0        9.64\n",
      "    4.0       26.08\n",
      "    5.0       56.93\n",
      "------------------------------\n"
     ]
    },
    {
     "data": {
      "image/png": "[encoded data removed]",
      "text/plain": [
       "<Figure size 1400x800 with 1 Axes>"
      ]
     },
     "metadata": {},
     "output_type": "display_data"
    },
    {
     "name": "stdout",
     "output_type": "stream",
     "text": [
      "Mean: 4.29, Median: 5.0\n"
     ]
    }
   ],
   "source": [
    "# Visualizing the distribution of the feature 'rating' and relative percentage annotations\n",
    "barplot(df, \"rating\", perc=False)"
   ]
  },
  {
   "cell_type": "markdown",
   "metadata": {},
   "source": [
    "**Observations**:\n",
    "- **High Ratings Dominance**: The majority of ratings are high, with 56.93% being 5.0 and 26.08% at 4.0, indicating a strong bias toward positive feedback.\n",
    "- **Low Ratings Rarity**: Low ratings (1.0 and 2.0) are rare, accounting for only 3.35% and 4.01% of the ratings, respectively.\n",
    "- **Left-Skewed Distribution**: The distribution is left-skewed, with the mean (4.29) being lower than the median (5.0)."
   ]
  },
  {
   "cell_type": "markdown",
   "metadata": {},
   "source": [
    "### Univariate Analysis of Categorical Columns"
   ]
  },
  {
   "cell_type": "markdown",
   "metadata": {},
   "source": [
    "#### Column | user_id, prod_id"
   ]
  },
  {
   "cell_type": "code",
   "execution_count": 67,
   "metadata": {},
   "outputs": [
    {
     "data": {
      "image/png": "[encoded data removed]",
      "text/plain": [
       "<Figure size 1600x1200 with 4 Axes>"
      ]
     },
     "metadata": {},
     "output_type": "display_data"
    }
   ],
   "source": [
    "# Note: Histplot y-axis is scaled by square root\n",
    "\n",
    "# Create a combined figure with GridSpec\n",
    "fig = plt.figure(figsize=(16, 12))\n",
    "gs = GridSpec(2, 2, height_ratios=[2, 1])\n",
    "\n",
    "# Plotting user-product interactions distribution (histplot)\n",
    "ax0 = fig.add_subplot(gs[0, 0])\n",
    "plot_interaction_histplot(df, \"user_id\", \"prod_id\", ax0)\n",
    "\n",
    "# Plotting product-user interactions distribution (histplot)\n",
    "ax1 = fig.add_subplot(gs[0, 1])\n",
    "plot_interaction_histplot(df, \"prod_id\", \"user_id\", ax1)\n",
    "\n",
    "# Plotting user-product interactions distribution (boxplot)\n",
    "ax2 = fig.add_subplot(gs[1, 0])\n",
    "plot_interaction_boxplot(df, \"user_id\", \"prod_id\", ax2)\n",
    "\n",
    "# Plotting product-user interactions distribution (boxplot)\n",
    "ax3 = fig.add_subplot(gs[1, 1])\n",
    "plot_interaction_boxplot(df, \"prod_id\", \"user_id\", ax3)\n",
    "\n",
    "# Synchronize x-axis limits for boxplots\n",
    "ax2.set_xlim(ax0.get_xlim()[0], ax0.get_xlim()[1])\n",
    "ax3.set_xlim(ax0.get_xlim()[0], ax1.get_xlim()[1])\n",
    "\n",
    "plt.tight_layout(pad=2.0)\n",
    "plt.show()"
   ]
  },
  {
   "cell_type": "markdown",
   "metadata": {},
   "source": [
    "**Observations**:\n",
    "\n",
    "- **Skewed Distribution**: Both user-product and product-user interactions show a right-skewed distribution, with most interactions being on the lower end.\n",
    "- **Low Interaction Dominance**: The majority of users interact with a small number of products (10 to 50 interactions), and most products are interacted with by a small number of users (1 to 10 interactions).\n",
    "- **Presence of Outliers**: There are notable outliers, with the maximum interactions for a single user reaching 360 and for a single product reaching 302, significantly higher than the mean and median, indicating that very few products and users dominate the interaction counts."
   ]
  },
  {
   "cell_type": "markdown",
   "metadata": {},
   "source": [
    "#### Column | user_id"
   ]
  },
  {
   "cell_type": "code",
   "execution_count": 68,
   "metadata": {},
   "outputs": [
    {
     "name": "stdout",
     "output_type": "stream",
     "text": [
      "Top 10 Entries\n",
      "------------------------------\n",
      "       user_id  count\n",
      "  ADLVFFE4VBT8    360\n",
      "A3OXHLG6DIBRW8    320\n",
      "A1ODOGXEYECQQ8    292\n",
      " A680RUE1FDO8B    277\n",
      "A36K2N527TXXJN    264\n",
      "  A6FIAB28IS79    258\n",
      "A25C2M3QF9G7OQ    256\n",
      "A22CW0ZHY3NJH8    229\n",
      " A5JLAU2ARJ0BO    227\n",
      " AWPODHOB4GFWL    226\n",
      "------------------------------\n"
     ]
    },
    {
     "data": {
      "image/png": "[encoded data removed]",
      "text/plain": [
       "<Figure size 2000x1500 with 10 Axes>"
      ]
     },
     "metadata": {},
     "output_type": "display_data"
    }
   ],
   "source": [
    "# Visualizing the rating distribution for the top 10 users based on the total number of ratings\n",
    "features = [\"user_id\", \"rating\"]\n",
    "barplot_subplots(df, features, perc=True)"
   ]
  },
  {
   "cell_type": "markdown",
   "metadata": {},
   "source": [
    "**Observations**:\n",
    "- **High User Engagement**: The most active user, 'ADLVFFE4VBT8', has 360 interactions, with other top users ranging from 240 to 320 interactions, indicating significant engagement from a small subset of users.\n",
    "- **Positive Rating Dominance**: The majority of top users consistently favor 5-star ratings, with percentages between 46.3% and 77.3%, reflecting a strong tendency toward positive feedback.\n",
    "- **Diverse and Consistent Rating Behavior**: While most users predominantly give 5-star ratings, some, like 'ADLVFFE4VBT8', 'AWPODHOB4GFWL' and 'A5JLAU2ARJ0BO', show a more varied rating distribution with significant 3-star and 4-star ratings, suggesting varying levels of satisfaction or rating behavior among the most active users.\n",
    "- **Rare Negative Ratings**: Low ratings (1 and 2 stars) are infrequent among the top 10 users, averaging 2.14% and 3.51% respectively, indicating generally positive experiences or a reluctance to rate poorly."
   ]
  },
  {
   "cell_type": "markdown",
   "metadata": {},
   "source": [
    "#### Column | prod_id"
   ]
  },
  {
   "cell_type": "code",
   "execution_count": 69,
   "metadata": {},
   "outputs": [
    {
     "name": "stdout",
     "output_type": "stream",
     "text": [
      "Top 10 Entries\n",
      "------------------------------\n",
      "   prod_id  count\n",
      "B0088CJT4U    302\n",
      "B003ES5ZUU    290\n",
      "B007WTAJTO    288\n",
      "B000N99BBC    222\n",
      "B00829TIEK    221\n",
      "B002V88HFE    190\n",
      "B009SYZ8OC    185\n",
      "B00829THK0    183\n",
      "B008DWCRQW    181\n",
      "B002WE6D44    175\n",
      "------------------------------\n"
     ]
    },
    {
     "data": {
      "image/png": "[encoded data removed]",
      "text/plain": [
       "<Figure size 2000x1500 with 10 Axes>"
      ]
     },
     "metadata": {},
     "output_type": "display_data"
    }
   ],
   "source": [
    "# Visualizing the rating distribution for the top 10 products based on the total number of ratings\n",
    "features = [\"prod_id\", \"rating\"]\n",
    "barplot_subplots(df, features, perc=True)"
   ]
  },
  {
   "cell_type": "markdown",
   "metadata": {},
   "source": [
    "**Observations**:\n",
    "- **Top Products by Interaction**: The most frequently rated product, 'B0088CJT4U', has 302 ratings, with others in the top 10 ranging from 290 to 175 ratings, indicating significant engagement with a small subset of products.\n",
    "- **Positive Rating Dominance**: The majority of the top products exhibit a strong tendency toward 5-star ratings, with percentages ranging from 45.0% to 88.3%. This reflects a generally positive feedback pattern.\n",
    "- **Diverse Rating Behavior**: While high ratings are dominant, products like 'B008DWCRQW', 'B00829TIEK', and 'B0088CJT4U' display a wider spread across different rating levels, with notable proportions of 3-star and 4-star ratings, indicating more varied customer experiences.\n",
    "- **Low Frequency of Negative Ratings**: Across these top 10 products, ratings of 1 and 2 stars are rare, averaging around 1.84% and 2.27% respectively, suggesting generally positive experiences or a reluctance to rate products poorly."
   ]
  },
  {
   "cell_type": "markdown",
   "metadata": {},
   "source": [
    "---"
   ]
  },
  {
   "cell_type": "code",
   "execution_count": 29,
   "metadata": {},
   "outputs": [],
   "source": [
    "# Defining a function to get the top n products based on the highest average rating and minimum interactions\n",
    "def top_n_products(data, n, threshold=0):\n",
    "\n",
    "    # Finding products with minimum number of interactions\n",
    "    recommendations = data[data[\"cnt_rating\"] > threshold]\n",
    "\n",
    "    # Sorting values with respect to average rating\n",
    "    recommendations = recommendations.sort_values(\n",
    "        by=[\"bayesian_avg\"], ascending=[False]\n",
    "    )\n",
    "\n",
    "    # Get the top n products\n",
    "    return recommendations[\"bayesian_avg\"].nlargest(n).round(2).reset_index()"
   ]
  },
  {
   "cell_type": "markdown",
   "metadata": {},
   "source": [
    "## Model 1: Rank Based Recommendation System"
   ]
  },
  {
   "cell_type": "markdown",
   "metadata": {},
   "source": [
    "A rank-based recommendation system provides recommendations based on the most popular items. This approach is useful for addressing cold start problems, where new users lack historical interactions. In such cases, the system can recommend popular items to new users without relying on past data.\n",
    "\n",
    "The **Bayesian Average** enhances the reliability of a product’s rating by considering both the global average rating and the number of ratings a product has received. This method reduces the impact of small sample sizes, ensuring fairer recommendations by preventing products with few ratings from being overly favored or penalized.\n",
    "\n",
    "$$\\text{Bayesian Avg.} = \\frac{\\bar{R} \\times k + \\sum R}{k + N}$$\n",
    "\n",
    "where:\n",
    "- $\\bar{R}$ is the global average rating.\n",
    "- $k$ is the regularization parameter (often set to the average number of ratings across items).\n",
    "- $\\sum R$ is the sum of ratings for the specific item.\n",
    "- $N$ is the number of ratings for the specific item."
   ]
  },
  {
   "cell_type": "markdown",
   "metadata": {},
   "source": [
    "### Baseline | Rank Based Recommendation System"
   ]
  },
  {
   "cell_type": "code",
   "execution_count": 30,
   "metadata": {},
   "outputs": [],
   "source": [
    "# Get the count of ratings and average of ratings for each product\n",
    "prod_stats = df.groupby(\"prod_id\")[\"rating\"].agg([\"mean\", \"count\"])\n",
    "\n",
    "# Rename columns\n",
    "prod_stats = prod_stats.rename(columns={\"mean\": \"avg_rating\", \"count\": \"cnt_rating\"})\n",
    "\n",
    "# Define the global mean (average rating across all products)\n",
    "global_rating = df[\"rating\"].mean()\n",
    "\n",
    "# Set the hyperparameter (average number of ratings across all products)\n",
    "k = prod_stats[\"cnt_rating\"].mean()\n",
    "\n",
    "# Calculate the Bayesian Average for each product using existing columns\n",
    "prod_stats[\"bayesian_avg\"] = (\n",
    "    global_rating * k + prod_stats[\"cnt_rating\"] * prod_stats[\"avg_rating\"]\n",
    ") / (k + prod_stats[\"cnt_rating\"])\n",
    "\n",
    "# Sort the dataframe by average of ratings in the descending order\n",
    "prod_stats = prod_stats.sort_values(by=[\"bayesian_avg\"], ascending=[False])"
   ]
  },
  {
   "cell_type": "markdown",
   "metadata": {},
   "source": [
    "### Model Recommendation"
   ]
  },
  {
   "cell_type": "code",
   "execution_count": 31,
   "metadata": {},
   "outputs": [
    {
     "data": {
      "text/html": [
       "<div>\n",
       "<style scoped>\n",
       "    .dataframe tbody tr th:only-of-type {\n",
       "        vertical-align: middle;\n",
       "    }\n",
       "\n",
       "    .dataframe tbody tr th {\n",
       "        vertical-align: top;\n",
       "    }\n",
       "\n",
       "    .dataframe thead th {\n",
       "        text-align: right;\n",
       "    }\n",
       "</style>\n",
       "<table border=\"1\" class=\"dataframe\">\n",
       "  <thead>\n",
       "    <tr style=\"text-align: right;\">\n",
       "      <th></th>\n",
       "      <th>prod_id</th>\n",
       "      <th>bayesian_avg</th>\n",
       "    </tr>\n",
       "  </thead>\n",
       "  <tbody>\n",
       "    <tr>\n",
       "      <th>0</th>\n",
       "      <td>B0052SCU8U</td>\n",
       "      <td>4.91</td>\n",
       "    </tr>\n",
       "    <tr>\n",
       "      <th>1</th>\n",
       "      <td>B001TH7GUU</td>\n",
       "      <td>4.85</td>\n",
       "    </tr>\n",
       "    <tr>\n",
       "      <th>2</th>\n",
       "      <td>B007SZ0E1K</td>\n",
       "      <td>4.84</td>\n",
       "    </tr>\n",
       "    <tr>\n",
       "      <th>3</th>\n",
       "      <td>B003FVJYF8</td>\n",
       "      <td>4.83</td>\n",
       "    </tr>\n",
       "    <tr>\n",
       "      <th>4</th>\n",
       "      <td>B003ES5ZUU</td>\n",
       "      <td>4.83</td>\n",
       "    </tr>\n",
       "    <tr>\n",
       "      <th>5</th>\n",
       "      <td>B001TH7T2U</td>\n",
       "      <td>4.81</td>\n",
       "    </tr>\n",
       "    <tr>\n",
       "      <th>6</th>\n",
       "      <td>B00316263Y</td>\n",
       "      <td>4.81</td>\n",
       "    </tr>\n",
       "    <tr>\n",
       "      <th>7</th>\n",
       "      <td>B00HG1L334</td>\n",
       "      <td>4.81</td>\n",
       "    </tr>\n",
       "    <tr>\n",
       "      <th>8</th>\n",
       "      <td>B005LDLP8W</td>\n",
       "      <td>4.81</td>\n",
       "    </tr>\n",
       "    <tr>\n",
       "      <th>9</th>\n",
       "      <td>B001TH7GSW</td>\n",
       "      <td>4.80</td>\n",
       "    </tr>\n",
       "  </tbody>\n",
       "</table>\n",
       "</div>"
      ],
      "text/plain": [
       "      prod_id  bayesian_avg\n",
       "0  B0052SCU8U          4.91\n",
       "1  B001TH7GUU          4.85\n",
       "2  B007SZ0E1K          4.84\n",
       "3  B003FVJYF8          4.83\n",
       "4  B003ES5ZUU          4.83\n",
       "5  B001TH7T2U          4.81\n",
       "6  B00316263Y          4.81\n",
       "7  B00HG1L334          4.81\n",
       "8  B005LDLP8W          4.81\n",
       "9  B001TH7GSW          4.80"
      ]
     },
     "execution_count": 31,
     "metadata": {},
     "output_type": "execute_result"
    }
   ],
   "source": [
    "# Retrieve the top 10 products, ranked using the Bayesian average\n",
    "top_n_products(prod_stats, 10)"
   ]
  },
  {
   "cell_type": "code",
   "execution_count": 32,
   "metadata": {},
   "outputs": [
    {
     "data": {
      "text/html": [
       "<div>\n",
       "<style scoped>\n",
       "    .dataframe tbody tr th:only-of-type {\n",
       "        vertical-align: middle;\n",
       "    }\n",
       "\n",
       "    .dataframe tbody tr th {\n",
       "        vertical-align: top;\n",
       "    }\n",
       "\n",
       "    .dataframe thead th {\n",
       "        text-align: right;\n",
       "    }\n",
       "</style>\n",
       "<table border=\"1\" class=\"dataframe\">\n",
       "  <thead>\n",
       "    <tr style=\"text-align: right;\">\n",
       "      <th></th>\n",
       "      <th>prod_id</th>\n",
       "      <th>bayesian_avg</th>\n",
       "    </tr>\n",
       "  </thead>\n",
       "  <tbody>\n",
       "    <tr>\n",
       "      <th>0</th>\n",
       "      <td>B0052SCU8U</td>\n",
       "      <td>4.91</td>\n",
       "    </tr>\n",
       "    <tr>\n",
       "      <th>1</th>\n",
       "      <td>B001TH7GUU</td>\n",
       "      <td>4.85</td>\n",
       "    </tr>\n",
       "    <tr>\n",
       "      <th>2</th>\n",
       "      <td>B003ES5ZUU</td>\n",
       "      <td>4.83</td>\n",
       "    </tr>\n",
       "    <tr>\n",
       "      <th>3</th>\n",
       "      <td>B001TH7T2U</td>\n",
       "      <td>4.81</td>\n",
       "    </tr>\n",
       "    <tr>\n",
       "      <th>4</th>\n",
       "      <td>B00316263Y</td>\n",
       "      <td>4.81</td>\n",
       "    </tr>\n",
       "    <tr>\n",
       "      <th>5</th>\n",
       "      <td>B001TH7GSW</td>\n",
       "      <td>4.80</td>\n",
       "    </tr>\n",
       "    <tr>\n",
       "      <th>6</th>\n",
       "      <td>B0000BZL1P</td>\n",
       "      <td>4.79</td>\n",
       "    </tr>\n",
       "    <tr>\n",
       "      <th>7</th>\n",
       "      <td>B00BQ4F9ZA</td>\n",
       "      <td>4.78</td>\n",
       "    </tr>\n",
       "    <tr>\n",
       "      <th>8</th>\n",
       "      <td>B00E3W15P0</td>\n",
       "      <td>4.77</td>\n",
       "    </tr>\n",
       "    <tr>\n",
       "      <th>9</th>\n",
       "      <td>B0019EHU8G</td>\n",
       "      <td>4.76</td>\n",
       "    </tr>\n",
       "  </tbody>\n",
       "</table>\n",
       "</div>"
      ],
      "text/plain": [
       "      prod_id  bayesian_avg\n",
       "0  B0052SCU8U          4.91\n",
       "1  B001TH7GUU          4.85\n",
       "2  B003ES5ZUU          4.83\n",
       "3  B001TH7T2U          4.81\n",
       "4  B00316263Y          4.81\n",
       "5  B001TH7GSW          4.80\n",
       "6  B0000BZL1P          4.79\n",
       "7  B00BQ4F9ZA          4.78\n",
       "8  B00E3W15P0          4.77\n",
       "9  B0019EHU8G          4.76"
      ]
     },
     "execution_count": 32,
     "metadata": {},
     "output_type": "execute_result"
    }
   ],
   "source": [
    "# Retrieve the top 10 products with at least 50 interactions, ranked using the Bayesian average\n",
    "top_n_products(prod_stats, 10, 50)"
   ]
  },
  {
   "cell_type": "markdown",
   "metadata": {},
   "source": [
    "**Observations**:\n",
    "- The rank-based recommendation system identifies the top 10 products from the prepared dataset, utilizing the Bayesian average to balance popularity with the number of interactions. Additionally, the system refines the rankings by considering products with at least 50 interactions, ensuring a more robust and fair product ranking."
   ]
  },
  {
   "cell_type": "markdown",
   "metadata": {},
   "source": [
    "## Model 2: User-User Collaborative Filtering Recommendation System"
   ]
  },
  {
   "cell_type": "markdown",
   "metadata": {},
   "source": [
    "### Defintion of Functions"
   ]
  },
  {
   "cell_type": "code",
   "execution_count": 33,
   "metadata": {},
   "outputs": [],
   "source": [
    "def calculate_predictive_metrics(user_est_true, k=10, threshold=3.5):\n",
    "    \"\"\"\n",
    "    Calculate predictive quality metrics for a recommendation model, including Precision@K, Recall@K, and F1 Score@K.\n",
    "\n",
    "    Parameters:\n",
    "    - user_est_true: Dictionary mapping user IDs to a list of (estimated rating, true rating) tuples.\n",
    "    - k: The number of top recommendations to consider (default is 10).\n",
    "    - threshold: The rating threshold to consider an item as relevant (default is 3.5).\n",
    "\n",
    "    Returns:\n",
    "    - A dictionary containing:\n",
    "      - Precision@K: The proportion of recommended items in the top K that are relevant.\n",
    "      - Recall@K: The proportion of relevant items that are recommended in the top K.\n",
    "      - F1 Score@K: The harmonic mean of Precision@K and Recall@K.\n",
    "    \"\"\"\n",
    "\n",
    "    # Initialize dictionaries to store precision and recall for each user\n",
    "    precisions = {}\n",
    "    recalls = {}\n",
    "\n",
    "    # Recall@K: Proportion of relevant items that are recommended (0 if n_rel is 0)\n",
    "    # Precision@K: Proportion of recommended items that are relevant (0 if n_rec_k is 0)\n",
    "\n",
    "    for uid, user_ratings in user_est_true.items():\n",
    "        # Sort user ratings by estimated value\n",
    "        user_ratings.sort(key=lambda x: x[0], reverse=True)\n",
    "\n",
    "        # Number of relevant items\n",
    "        n_rel = sum((true_r >= threshold) for _, true_r in user_ratings)\n",
    "\n",
    "        # Number of recommended items in top k\n",
    "        n_rec_k = sum((est >= threshold) for est, _ in user_ratings[:k])\n",
    "        n_rel_and_rec_k = sum(\n",
    "            ((true_r >= threshold) and (est >= threshold))\n",
    "            for est, true_r in user_ratings[:k]\n",
    "        )\n",
    "\n",
    "        # Calculate Precision@K for the user\n",
    "        precisions[uid] = n_rel_and_rec_k / n_rec_k if n_rec_k != 0 else 0\n",
    "\n",
    "        # Calculate Recall@K for the user\n",
    "        recalls[uid] = n_rel_and_rec_k / n_rel if n_rel != 0 else 0\n",
    "\n",
    "    # Calculate the average of Precision@K and Recall@K\n",
    "    precision = round(sum(prec for prec in precisions.values()) / len(precisions), 3)\n",
    "    recall = round(sum(rec for rec in recalls.values()) / len(recalls), 3)\n",
    "\n",
    "    # Calculate F1 Score@K\n",
    "    f1 = (\n",
    "        round((2 * precision * recall) / (precision + recall), 3)\n",
    "        if (precision + recall) != 0\n",
    "        else 0\n",
    "    )\n",
    "\n",
    "    # Return all scores in a dictionary\n",
    "    return {\n",
    "        \"Precision@K\": precision,\n",
    "        \"Recall@K\": recall,\n",
    "        \"F1 Score@K\": f1,\n",
    "    }"
   ]
  },
  {
   "cell_type": "code",
   "execution_count": 34,
   "metadata": {},
   "outputs": [],
   "source": [
    "def calculate_ranking_metrics(user_est_true, k=10, threshold=3.5):\n",
    "    \"\"\"\n",
    "    Calculate the ranking quality metrics for a recommendation model, including MRR, MAP, and Hit Rate@K.\n",
    "\n",
    "    Parameters:\n",
    "    - user_est_true: Dictionary mapping user IDs to a list of (estimated rating, true rating) tuples.\n",
    "    - k: The number of top recommendations to consider (default is 10).\n",
    "    - threshold: The rating threshold to consider an item as relevant (default is 3.5).\n",
    "\n",
    "    Returns:\n",
    "    - A dictionary containing:\n",
    "      - MRR: Mean Reciprocal Rank, the average rank of the first relevant item for each user.\n",
    "      - MAP: Mean Average Precision, the average of the precision scores for all relevant items.\n",
    "      - Hit Rate@K: The proportion of users for whom at least one relevant item appears in the top K recommendations.\n",
    "    \"\"\"\n",
    "\n",
    "    # Initialize sums for MRR, MAP, and count for Hit Rate\n",
    "    mrr_sum = 0\n",
    "    map_sum = 0\n",
    "    hit_rate_count = 0\n",
    "\n",
    "    # Get the total number of users\n",
    "    num_users = len(user_est_true)\n",
    "\n",
    "    for uid, user_ratings in user_est_true.items():\n",
    "        user_ratings.sort(key=lambda x: x[0], reverse=True)\n",
    "\n",
    "        # Calculate MRR for the user\n",
    "        for rank, (est, true_r) in enumerate(user_ratings[:k], start=1):\n",
    "            if true_r >= threshold:\n",
    "                mrr_sum += 1 / rank\n",
    "                break\n",
    "\n",
    "        # Calculate MAP for the user\n",
    "        hits = 0\n",
    "        avg_precision = 0\n",
    "        for rank, (est, true_r) in enumerate(user_ratings[:k], start=1):\n",
    "            if true_r >= threshold:\n",
    "                hits += 1\n",
    "                avg_precision += hits / rank\n",
    "\n",
    "        if hits > 0:\n",
    "            map_sum += avg_precision / hits\n",
    "\n",
    "        # Calculate Hit Rate for the user\n",
    "        if hits > 0:\n",
    "            hit_rate_count += 1\n",
    "\n",
    "    # Calculate the average of all metrics\n",
    "    mrr = round(mrr_sum / num_users, 3)\n",
    "    map_score = round(map_sum / num_users, 3)\n",
    "    hit_rate = round(hit_rate_count / num_users, 3)\n",
    "\n",
    "    # Return all scores in a dictionary\n",
    "    return {\n",
    "        \"MRR\": mrr,\n",
    "        \"MAP\": map_score,\n",
    "        \"Hit Rate@K\": hit_rate,\n",
    "    }"
   ]
  },
  {
   "cell_type": "code",
   "execution_count": 35,
   "metadata": {},
   "outputs": [],
   "source": [
    "def evaluate_model(predictions, k=10, threshold=3.5):\n",
    "    \"\"\"\n",
    "    Evaluate a recommendation model using both predictive quality metrics (RMSE, Precision@K, Recall@K, F1 Score@K)\n",
    "    and ranking quality metrics (MRR, MAP, Hit Rate@K).\n",
    "\n",
    "    Parameters:\n",
    "    - predictions: List of predictions made by the recommendation model.\n",
    "    - k: The number of top recommendations to consider (default is 10).\n",
    "    - threshold: The rating threshold to consider an item as relevant (default is 3.5).\n",
    "\n",
    "    Returns:\n",
    "    - predictive_metrics: A dictionary containing:\n",
    "      - RMSE: Root Mean Square Error, a measure of the differences between predicted and actual ratings.\n",
    "      - Precision@K: The proportion of recommended items in the top K that are relevant.\n",
    "      - Recall@K: The proportion of relevant items that are recommended in the top K.\n",
    "      - F1 Score@K: The harmonic mean of Precision@K and Recall@K.\n",
    "    - ranking_metrics: A dictionary containing:\n",
    "      - MRR: Mean Reciprocal Rank, the average rank of the first relevant item for each user.\n",
    "      - MAP: Mean Average Precision, the average of the precision scores for all relevant items.\n",
    "      - Hit Rate@K: The proportion of users for whom at least one relevant item appears in the top K.\n",
    "    \"\"\"\n",
    "\n",
    "    # Calculate RMSE directly from predictions\n",
    "    rmse = round(accuracy.rmse(predictions, verbose=False), 3)\n",
    "\n",
    "    # Initialize a dictionary to store the estimated and true ratings for each user\n",
    "    user_est_true = defaultdict(list)\n",
    "\n",
    "    # Populate the dictionary with predictions: mapping user ID to a list of (estimated rating, true rating) tuples\n",
    "    for uid, _, true_r, est, _ in predictions:\n",
    "        user_est_true[uid].append((est, true_r))\n",
    "\n",
    "    # Calculate predictive quality metrics (Precision@K, Recall@K, F1 Score@K)\n",
    "    predictive_metrics = calculate_predictive_metrics(user_est_true, k, threshold)\n",
    "\n",
    "    # Add RMSE to the predictive metrics\n",
    "    predictive_metrics = {\"RMSE\": rmse, **predictive_metrics}\n",
    "\n",
    "    # Calculate ranking quality metrics (MRR, MAP, Hit Rate@K)\n",
    "    ranking_metrics = calculate_ranking_metrics(user_est_true, k, threshold)\n",
    "\n",
    "    # Return all scores\n",
    "    return predictive_metrics, ranking_metrics"
   ]
  },
  {
   "cell_type": "code",
   "execution_count": 36,
   "metadata": {},
   "outputs": [],
   "source": [
    "def get_recommendations(data, user_id, top_n, algo):\n",
    "    \"\"\"\n",
    "    This function recommends top_n products for a given user based on the specified algorithm.\n",
    "\n",
    "    Parameters:\n",
    "    - data: A rating dataset\n",
    "    - user_id: The user id for which recommendations are needed\n",
    "    - top_n: The number of products to recommend\n",
    "    - algo: The algorithm to use for predicting ratings\n",
    "\n",
    "    Output:\n",
    "    - A set of top_n items recommended for the given user_id based on the given algorithm\n",
    "    \"\"\"\n",
    "\n",
    "    # Creating an empty list to store the recommended product ids\n",
    "    recommendations = []\n",
    "\n",
    "    # Creating an user item interactions matrix\n",
    "    user_item_interactions_matrix = data.pivot(\n",
    "        index=\"user_id\", columns=\"prod_id\", values=\"rating\"\n",
    "    )\n",
    "\n",
    "    # Extracting those product ids which the user_id has not interacted yet\n",
    "    non_interacted_products = user_item_interactions_matrix.loc[user_id][\n",
    "        user_item_interactions_matrix.loc[user_id].isnull()\n",
    "    ].index.tolist()\n",
    "\n",
    "    # Looping through each of the product ids which user_id has not interacted yet\n",
    "    for item_id in non_interacted_products:\n",
    "\n",
    "        # Predicting the ratings for those non interacted product ids by this user\n",
    "        est = algo.predict(user_id, item_id).est\n",
    "        details = algo.predict(user_id, item_id).details\n",
    "\n",
    "        # Appending the predicted ratings\n",
    "        recommendations.append((item_id, est, details))\n",
    "\n",
    "    # Sorting the predicted ratings in descending order\n",
    "    recommendations.sort(key=lambda x: x[1], reverse=True)\n",
    "\n",
    "    # Convert recommendations to DataFrame and round predicted ratings\n",
    "    recommendations_df = pd.DataFrame(\n",
    "        recommendations[:top_n],\n",
    "        columns=[\"prod_id\", \"estimated_ratings\", \"details\"],\n",
    "    ).assign(estimated_ratings=lambda df: df[\"estimated_ratings\"].round(2))\n",
    "\n",
    "    # Returing top n highest predicted rating products for this user\n",
    "    return recommendations_df"
   ]
  },
  {
   "cell_type": "code",
   "execution_count": null,
   "metadata": {},
   "outputs": [],
   "source": [
    "def cross_val(data, algo, measures=[\"RMSE\", \"MAE\"], cv=6):\n",
    "    cv = cross_validate(\n",
    "        data=data, algo=algo.model, measures=measures, cv=cv, n_jobs=-1, verbose=True\n",
    "    )"
   ]
  },
  {
   "cell_type": "code",
   "execution_count": null,
   "metadata": {},
   "outputs": [],
   "source": [
    "def baseline_gs(\n",
    "    data: pd.DataFrame,\n",
    "    algos: dict,\n",
    "    param_grids: dict,\n",
    "    measures: list = [\"rmse\"],\n",
    "    cv: int = 5,\n",
    "):\n",
    "    \"\"\"\n",
    "    Run GridSearchCV for multiple algorithms with specified parameter grids.\n",
    "\n",
    "    Parameters:\n",
    "    - data: Dataset to be used for training.\n",
    "    - algos: Dictionary of algorithm names and classes.\n",
    "    - param_grids: Dictionary of parameter grids for each algorithm.\n",
    "    - measures: List of performance measures to evaluate (default is [\"rmse\"]).\n",
    "    - cv: Number of cross-validation folds (default is 5).\n",
    "\n",
    "    Returns:\n",
    "    - best_model_name: Name of the algorithm with the best RMSE.\n",
    "    - best_model_params: Best parameters for the algorithm with the best RMSE.\n",
    "    \"\"\"\n",
    "    best_rmse = float(\"inf\")  # Initialize the best RMSE to a large value\n",
    "    best_model_name = None\n",
    "    best_model_params = None\n",
    "\n",
    "    # Dictionary to store the models\n",
    "    models = {}\n",
    "\n",
    "    for name, algo in algos.items():\n",
    "        # Retrieve the parameter grid for the current algorithm\n",
    "        param_grid = param_grids.get(name, {})\n",
    "\n",
    "        # Initialize GridSearchCV for the current algorithm\n",
    "        model_gs = GridSearchCV(algo, param_grid, measures=measures, cv=cv, n_jobs=-1)\n",
    "        model_gs.fit(data)\n",
    "        models[name] = model_gs\n",
    "\n",
    "        # Update the best model if the current model's RMSE is lower\n",
    "        current_rmse = model_gs.best_score[\"rmse\"]\n",
    "        if current_rmse < best_rmse:\n",
    "            best_rmse = current_rmse\n",
    "            best_model_name = name\n",
    "            best_model_params = model_gs.best_params[\"rmse\"]\n",
    "\n",
    "    for name in algos.keys():\n",
    "        # Display results for the current algorithm\n",
    "        display(Markdown(f\"**{name}:**\"))\n",
    "        print(f'RSME: {round(models[name].best_score[\"rmse\"], 3)}')\n",
    "        print(f'Parameters: {models[name].best_params[\"rmse\"]}')\n",
    "\n",
    "    # Display the best baseline model selection\n",
    "    width = 100\n",
    "    formatted_message = f\" BASELINE MODEL SELECTION: {best_model_name} \".center(\n",
    "        width, \"-\"\n",
    "    )\n",
    "    display(Markdown(f\"**{formatted_message}**\"))\n",
    "\n",
    "    return best_model_name, best_model_params"
   ]
  },
  {
   "cell_type": "code",
   "execution_count": null,
   "metadata": {},
   "outputs": [],
   "source": [
    "# Function to prepare and display metrics\n",
    "def create_metrics_df(metrics_dict, algo_names):\n",
    "    \"\"\"\n",
    "    Creates a DataFrame from a dictionary of metrics.\n",
    "\n",
    "    Parameters:\n",
    "    - metrics_dict: Dictionary containing model metrics.\n",
    "    - algo_names: List of algorithm names corresponding to each row.\n",
    "\n",
    "    Returns:\n",
    "    - DataFrame: A formatted DataFrame with the combined metrics.\n",
    "    \"\"\"\n",
    "    # Convert dictionary to DataFrame\n",
    "    metrics_df = pd.DataFrame(metrics_dict).T\n",
    "\n",
    "    # Insert algorithm and separator columns\n",
    "    metrics_df.insert(0, \"Algo\", algo_names)\n",
    "    metrics_df.insert(1, \"|\", [\"|\"] * len(metrics_df))\n",
    "\n",
    "    return metrics_df"
   ]
  },
  {
   "cell_type": "code",
   "execution_count": null,
   "metadata": {},
   "outputs": [],
   "source": [
    "# Function to prepare and display metrics\n",
    "def prepare_and_display_metrics(metrics, algo_names, title):\n",
    "    df = create_metrics_df(metrics, algo_names)\n",
    "    display(Markdown(f\"**{title}**\"))\n",
    "    display(df)"
   ]
  },
  {
   "cell_type": "markdown",
   "metadata": {},
   "source": [
    "### Data Preprocessing"
   ]
  },
  {
   "cell_type": "markdown",
   "metadata": {},
   "source": [
    "Loading the **rating dataset**, a pandas DataFrame, into a different format called **'surprise.dataset.DatasetAutoFolds'**, which is required by the 'surprise' library. This process uses the **'Reader' and 'Dataset' classes**."
   ]
  },
  {
   "cell_type": "code",
   "execution_count": 37,
   "metadata": {},
   "outputs": [],
   "source": [
    "def select_interactions(trainset, num_users=2, num_products=2, seed=42):\n",
    "\n",
    "    # Set the random seed for reproducibility\n",
    "    random.seed(seed)\n",
    "\n",
    "    # Randomly select a few users from the trainset\n",
    "    random_inner_uids = random.sample(trainset.all_users(), num_users)\n",
    "\n",
    "    # Initialize dictionaries to store user interactions and all interacted products\n",
    "    user_interactions = {}\n",
    "    user_interacted_products = {}\n",
    "    user_non_interactions = {}  # If you plan to use this later\n",
    "\n",
    "    # Get the set of all product IDs in the trainset\n",
    "    all_products = set(trainset.to_raw_iid(item) for item in trainset.all_items())\n",
    "\n",
    "    # Iterate over the selected users in the trainset\n",
    "    for inner_uid in random_inner_uids:\n",
    "        # Convert inner user ID to raw user ID\n",
    "        raw_user_id = trainset.to_raw_uid(inner_uid)\n",
    "\n",
    "        # Get the list of (item_inner_id, rating) tuples for this user\n",
    "        user_ratings = trainset.ur[inner_uid]\n",
    "\n",
    "        # Convert item_inner_id to raw item IDs and store the interactions\n",
    "        user_interacted_products[raw_user_id] = [\n",
    "            (trainset.to_raw_iid(item_inner_id), rating)\n",
    "            for item_inner_id, rating in user_ratings\n",
    "        ]\n",
    "\n",
    "        # Randomly select a few interacted products\n",
    "        user_interactions[raw_user_id] = random.sample(\n",
    "            user_interacted_products[raw_user_id], num_products\n",
    "        )\n",
    "\n",
    "        # Get the set of interacted product IDs for the current user\n",
    "        interacted_products = set(\n",
    "            item_id for item_id, _ in user_interacted_products[raw_user_id]\n",
    "        )\n",
    "\n",
    "        # Identify non-interacted products by subtracting interacted ones from all products\n",
    "        non_interacted_products = list(all_products - interacted_products)\n",
    "\n",
    "        # Randomly select non-interacted products\n",
    "        if len(non_interacted_products) >= num_products:\n",
    "            user_non_interactions[raw_user_id] = random.sample(\n",
    "                non_interacted_products, num_products\n",
    "            )\n",
    "\n",
    "    return user_interactions, user_non_interactions"
   ]
  },
  {
   "cell_type": "code",
   "execution_count": 38,
   "metadata": {},
   "outputs": [],
   "source": [
    "# Instantiating Reader scale with expected rating scale\n",
    "reader = Reader(rating_scale=(0, 5))\n",
    "\n",
    "# Loading the rating dataset\n",
    "data = Dataset.load_from_df(df[[\"user_id\", \"prod_id\", \"rating\"]], reader=reader)\n",
    "\n",
    "# Splitting the data into train and test datasets\n",
    "trainset, testset = train_test_split(data, test_size=0.2, random_state=42)\n",
    "\n",
    "# Randomly select user IDs and retrieve their interacted and non-interacted products\n",
    "user_interactions, user_non_interactions = select_interactions(\n",
    "    trainset, num_users=2, num_products=2\n",
    ")"
   ]
  },
  {
   "cell_type": "code",
   "execution_count": 39,
   "metadata": {},
   "outputs": [
    {
     "name": "stdout",
     "output_type": "stream",
     "text": [
      "Interacted Products with Ratings:\n",
      "{'A3HPCRD9RX351S': [('B00B3YQGHS', 5.0), ('B007Y4NWQE', 5.0)], 'A2GL934UT3XENH': [('B009LPV766', 5.0), ('B00HPM1FZ0', 5.0)]}\n",
      "\n",
      "Non-Interacted Products:\n",
      "{'A3HPCRD9RX351S': ['B0019M6GP6', 'B004I8WH9W'], 'A2GL934UT3XENH': ['B0075SUK14', 'B003FWEQDM']}\n"
     ]
    }
   ],
   "source": [
    "# Example usage\n",
    "print(\"Interacted Products with Ratings:\")\n",
    "print(user_interactions)\n",
    "print(\"\\nNon-Interacted Products:\")\n",
    "print(user_non_interactions)"
   ]
  },
  {
   "cell_type": "code",
   "execution_count": 40,
   "metadata": {},
   "outputs": [],
   "source": [
    "class RecommendationSystem:\n",
    "    def __init__(\n",
    "        self,\n",
    "        data: pd.DataFrame,\n",
    "        algo_class,\n",
    "        params_grid: dict = None,\n",
    "        random_state: int = 42,\n",
    "    ):\n",
    "        self.data = data\n",
    "        self.algo_name = algo_class.__name__\n",
    "        self.algo_class = algo_class\n",
    "        self.params_grid = params_grid or {}\n",
    "        self.random_state = random_state\n",
    "        self.model = None\n",
    "        self.best_params = None\n",
    "        self.gs = None\n",
    "\n",
    "    def fit_knn(self, trainset, use_tuned_params: bool = False) -> None:\n",
    "        if self.algo_class not in (KNNBasic, KNNBaseline, KNNWithMeans, KNNWithZScore):\n",
    "            raise ValueError(\n",
    "                \"The algo_class is not kNN inspired. Please use select different algo_class.\"\n",
    "            )\n",
    "        if use_tuned_params and self.best_params is not None:\n",
    "            model_params = {\n",
    "                \"k\": self.best_params.get(\"k\", 40),\n",
    "                \"min_k\": self.best_params.get(\"min_k\", 1),\n",
    "                \"sim_options\": self.best_params.get(\"sim_options\", {}),\n",
    "                \"random_state\": self.random_state,\n",
    "                \"verbose\": False,\n",
    "            }\n",
    "        else:\n",
    "            model_params = {\n",
    "                \"k\": self.params_grid.get(\"k\", 40),\n",
    "                \"min_k\": self.params_grid.get(\"min_k\", 1),\n",
    "                \"sim_options\": self.params_grid.get(\"sim_options\", {}),\n",
    "                \"random_state\": self.random_state,\n",
    "                \"verbose\": False,\n",
    "            }\n",
    "\n",
    "        self.model = self.algo_class(**model_params)\n",
    "        self.model.fit(trainset)\n",
    "\n",
    "    def fit_svd(self, trainset, use_tuned_params: bool = False) -> None:\n",
    "        if self.algo_class not in (SVD, SVDpp):\n",
    "            raise ValueError(\"The algo_class is not SVD. Please use fit_knn.\")\n",
    "\n",
    "        if use_tuned_params and self.best_params is not None:\n",
    "            model_params = {\n",
    "                \"n_factors\": self.best_params.get(\"n_factor\", 100),\n",
    "                \"n_epochs\": self.best_params.get(\"n_epochs\", 20),\n",
    "                \"lr_all\": self.best_params.get(\"lr_all\", 0.005),\n",
    "                \"reg_all\": self.best_params.get(\"reg_all\", 0.02),\n",
    "                \"random_state\": self.random_state,\n",
    "            }\n",
    "        else:\n",
    "            model_params = {\n",
    "                \"n_factors\": self.params_grid.get(\"n_factor\", 100),\n",
    "                \"n_epochs\": self.params_grid.get(\"n_epochs\", 20),\n",
    "                \"lr_all\": self.params_grid.get(\"lr_all\", 0.005),\n",
    "                \"reg_all\": self.params_grid.get(\"reg_all\", 0.02),\n",
    "                \"random_state\": self.random_state,\n",
    "            }\n",
    "\n",
    "        self.model = self.algo_class(**model_params)\n",
    "        self.model.fit(trainset)\n",
    "\n",
    "    def evaluate(self, trainset, testset, k: int = 10, th: float = 3.5) -> dict:\n",
    "\n",
    "        # Evaluate on training set\n",
    "        train_predictions = self.model.test(trainset.build_testset())\n",
    "        train_pred_met, train_rank_met = evaluate_model(\n",
    "            train_predictions, k=k, threshold=th\n",
    "        )\n",
    "        self.train_metrics = {**train_rank_met, **train_pred_met}\n",
    "\n",
    "        # Evaluate on test set\n",
    "        test_predictions = self.model.test(testset)\n",
    "        test_pred_met, test_rank_met = evaluate_model(\n",
    "            test_predictions, k=k, threshold=th\n",
    "        )\n",
    "        self.test_metrics = {**test_rank_met, **test_pred_met}\n",
    "\n",
    "        # Combine results into DataFrames\n",
    "        pred_metrics_df = pd.DataFrame(\n",
    "            {\"Trainset\": train_pred_met, \"Testset\": test_pred_met}\n",
    "        )\n",
    "        rank_metrics_df = pd.DataFrame(\n",
    "            {\"Trainset\": train_rank_met, \"Testset\": test_rank_met}\n",
    "        )\n",
    "\n",
    "        # Display the metrics\n",
    "        display(Markdown(f\"**Predictive Quality Metrics**\"))\n",
    "        display(pred_metrics_df)\n",
    "        display(Markdown(f\"**Ranking Quality Metrics**\"))\n",
    "        display(rank_metrics_df)\n",
    "\n",
    "        return self.train_metrics, self.test_metrics\n",
    "\n",
    "    def predict(self, data: dict, has_interacted: bool) -> None:\n",
    "        phrase = \"\" if has_interacted else \"Non-\"\n",
    "\n",
    "        # Print the header\n",
    "        display(Markdown(f\"**Rating Estimates for {phrase}Interacted Products**\"))\n",
    "\n",
    "        for user, interactions in data.items():\n",
    "            for interaction in interactions:\n",
    "                if has_interacted:\n",
    "                    iid, rui = interaction  # product ID, rating\n",
    "                    pred = self.model.predict(\n",
    "                        uid=user, iid=iid, r_ui=rui, verbose=False\n",
    "                    )\n",
    "                else:\n",
    "                    iid = interaction  # product ID\n",
    "                    pred = self.model.predict(uid=user, iid=iid, verbose=False)\n",
    "                print(pred)\n",
    "\n",
    "    def tune_hyperparameters(\n",
    "        self, param_grid: dict, measure: list = [\"rmse\"], cv: int = 6\n",
    "    ) -> None:\n",
    "        self.gs = GridSearchCV(\n",
    "            self.algo_class, param_grid=param_grid, measures=measure, cv=cv, n_jobs=-1\n",
    "        )\n",
    "        self.gs.fit(self.data)\n",
    "        self.best_score = self.gs.best_score[measure[0]]\n",
    "        self.best_params = self.gs.best_params[measure[0]]\n",
    "\n",
    "        # Best RMSE score\n",
    "        print(f\"{measure[0].upper()}: {self.best_score.round(3)}\")\n",
    "        print(f\"Parameters: {self.best_params}\")\n",
    "\n",
    "    def recommend(self, data: pd.DataFrame, int_data: dict) -> None:\n",
    "        if self.model is None:\n",
    "            raise ValueError(\"Model is not trained.\")\n",
    "\n",
    "        for user in int_data.keys():\n",
    "            recommendations = get_recommendations(\n",
    "                data=data, user_id=user, top_n=5, algo=self.model\n",
    "            )\n",
    "            display(Markdown(f\"**Recommendations for User: {user}**\"))\n",
    "            display(recommendations)"
   ]
  },
  {
   "cell_type": "code",
   "execution_count": null,
   "metadata": {},
   "outputs": [],
   "source": [
    "k = 10\n",
    "threshold = 4.5"
   ]
  },
  {
   "cell_type": "code",
   "execution_count": null,
   "metadata": {},
   "outputs": [],
   "source": [
    "# Common base parameter grid for most k-NN algorithms\n",
    "base_knn_param_grid = {\n",
    "    \"k\": [10, 20, 30],  # Limited range to check different neighbor sizes\n",
    "    \"min_k\": [1, 3, 5],  # Ensure some variation in minimum neighbors\n",
    "    \"sim_options\": {\n",
    "        \"name\": [\"cosine\", \"msd\", \"pearson\"],\n",
    "        \"user_based\": [True],\n",
    "    },\n",
    "}\n",
    "\n",
    "# Specific parameter grid for KNNBaseline algorithm\n",
    "knn_baseline_param_grid = {\n",
    "    **base_knn_param_grid,  # Use the base grid and extend it\n",
    "    \"sim_options\": {\n",
    "        \"name\": [\"cosine\", \"msd\", \"pearson\", \"pearson_baseline\"],\n",
    "        \"user_based\": [True],\n",
    "    },\n",
    "}\n",
    "\n",
    "# Combine all parameter grids into one dictionary\n",
    "knn_param_grids = {\n",
    "    \"KNNBasic\": base_knn_param_grid,\n",
    "    \"KNNWithMeans\": base_knn_param_grid,\n",
    "    \"KNNWithZScore\": base_knn_param_grid,\n",
    "    \"KNNBaseline\": knn_baseline_param_grid,\n",
    "}\n",
    "\n",
    "\n",
    "# Combine the parameter grids into a dictionary\n",
    "knn_algorithms = {\n",
    "    \"KNNBasic\": KNNBasic,\n",
    "    \"KNNWithMeans\": KNNWithMeans,\n",
    "    \"KNNWithZScore\": KNNWithZScore,\n",
    "    \"KNNBaseline\": KNNBaseline,\n",
    "}\n",
    "\n",
    "# Run grid search for all k-NN algorithms\n",
    "knn_baseline_name, knn_baseline_params = baseline_gs(\n",
    "    data, knn_algorithms, knn_param_grids, cv=3\n",
    ")"
   ]
  },
  {
   "cell_type": "code",
   "execution_count": 41,
   "metadata": {},
   "outputs": [],
   "source": [
    "model = knn_algorithms[knn_baseline_name]\n",
    "params_grid = knn_baseline_params\n",
    "\n",
    "model_uu = RecommendationSystem(data=data, algo_class=model, params_grid=params_grid)"
   ]
  },
  {
   "cell_type": "code",
   "execution_count": 42,
   "metadata": {},
   "outputs": [
    {
     "data": {
      "text/markdown": [
       "**Predictive Quality Metrics**"
      ],
      "text/plain": [
       "<IPython.core.display.Markdown object>"
      ]
     },
     "metadata": {},
     "output_type": "display_data"
    },
    {
     "name": "stdout",
     "output_type": "stream",
     "text": [
      "RMSE: 1.009\n",
      "Precision@K: 0.565\n",
      "Recall@K: 0.409\n",
      "F1 Score@K: 0.475\n"
     ]
    },
    {
     "data": {
      "text/markdown": [
       "**Ranking Quality Metrics**"
      ],
      "text/plain": [
       "<IPython.core.display.Markdown object>"
      ]
     },
     "metadata": {},
     "output_type": "display_data"
    },
    {
     "name": "stdout",
     "output_type": "stream",
     "text": [
      "MRR: 0.788\n",
      "MAP: 0.739\n",
      "Hit Rate@K: 0.961\n"
     ]
    }
   ],
   "source": [
    "model_uu.fit_knn(trainset=trainset, use_tuned_params=False)\n",
    "model_uu_metric = model_uu.evaluate(\n",
    "    trainset=trainset, testset=testset, k=k, th=threshold\n",
    ")"
   ]
  },
  {
   "cell_type": "code",
   "execution_count": null,
   "metadata": {},
   "outputs": [],
   "source": [
    "# Perform cross-validation\n",
    "cross_val(data=data, algo=model_uu, measures=[\"RMSE\", \"MAE\"], cv=6)"
   ]
  },
  {
   "cell_type": "code",
   "execution_count": 43,
   "metadata": {},
   "outputs": [
    {
     "data": {
      "text/markdown": [
       "**Rating Estimates for Interacted Products**"
      ],
      "text/plain": [
       "<IPython.core.display.Markdown object>"
      ]
     },
     "metadata": {},
     "output_type": "display_data"
    },
    {
     "name": "stdout",
     "output_type": "stream",
     "text": [
      "user: A3HPCRD9RX351S item: B00B3YQGHS r_ui = 5.00   est = 4.99   {'actual_k': 8, 'was_impossible': False}\n",
      "user: A3HPCRD9RX351S item: B007Y4NWQE r_ui = 5.00   est = 5.00   {'actual_k': 2, 'was_impossible': False}\n",
      "user: A2GL934UT3XENH item: B009LPV766 r_ui = 5.00   est = 5.00   {'actual_k': 4, 'was_impossible': False}\n",
      "user: A2GL934UT3XENH item: B00HPM1FZ0 r_ui = 5.00   est = 4.99   {'actual_k': 12, 'was_impossible': False}\n"
     ]
    },
    {
     "data": {
      "text/markdown": [
       "**Rating Estimates for Non-Interacted Products**"
      ],
      "text/plain": [
       "<IPython.core.display.Markdown object>"
      ]
     },
     "metadata": {},
     "output_type": "display_data"
    },
    {
     "name": "stdout",
     "output_type": "stream",
     "text": [
      "user: A3HPCRD9RX351S item: B0019M6GP6 r_ui = None   est = 4.60   {'actual_k': 0, 'was_impossible': False}\n",
      "user: A3HPCRD9RX351S item: B004I8WH9W r_ui = None   est = 4.30   {'actual_k': 0, 'was_impossible': False}\n",
      "user: A2GL934UT3XENH item: B0075SUK14 r_ui = None   est = 5.00   {'actual_k': 1, 'was_impossible': False}\n",
      "user: A2GL934UT3XENH item: B003FWEQDM r_ui = None   est = 4.84   {'actual_k': 0, 'was_impossible': False}\n"
     ]
    }
   ],
   "source": [
    "model_uu.predict(data=user_interactions, has_interacted=True)\n",
    "model_uu.predict(data=user_non_interactions, has_interacted=False)"
   ]
  },
  {
   "cell_type": "code",
   "execution_count": 44,
   "metadata": {},
   "outputs": [
    {
     "name": "stdout",
     "output_type": "stream",
     "text": [
      "Estimating biases using als...\n",
      "Computing the msd similarity matrix...\n",
      "Estimating biases using als...\n",
      "Computing the msd similarity matrix...\n",
      "Done computing similarity matrix.\n",
      "Estimating biases using als...\n",
      "Computing the msd similarity matrix...\n",
      "Estimating biases using als...\n",
      "Done computing similarity matrix.\n",
      "Computing the msd similarity matrix...\n",
      "Estimating biases using als...\n",
      "Done computing similarity matrix.\n",
      "Computing the msd similarity matrix...\n",
      "Estimating biases using als...\n",
      "Done computing similarity matrix.\n",
      "Computing the msd similarity matrix...\n",
      "Estimating biases using als...\n",
      "Done computing similarity matrix.\n",
      "Computing the cosine similarity matrix...\n",
      "Estimating biases using als...\n",
      "Done computing similarity matrix.\n",
      "Computing the cosine similarity matrix...\n",
      "Estimating biases using als...\n",
      "Computing the cosine similarity matrix...\n",
      "Done computing similarity matrix.\n",
      "Estimating biases using als...\n",
      "Computing the cosine similarity matrix...\n",
      "Estimating biases using als...\n",
      "Done computing similarity matrix.\n",
      "Done computing similarity matrix.\n",
      "Computing the cosine similarity matrix...\n",
      "Estimating biases using als...\n",
      "Computing the cosine similarity matrix...\n",
      "Done computing similarity matrix.\n",
      "Estimating biases using als...\n",
      "Computing the pearson_baseline similarity matrix...\n",
      "Estimating biases using als...\n",
      "Done computing similarity matrix.\n",
      "Done computing similarity matrix.\n",
      "Computing the pearson_baseline similarity matrix...\n",
      "Estimating biases using als...\n",
      "Computing the pearson_baseline similarity matrix...\n",
      "Done computing similarity matrix.\n",
      "Estimating biases using als...\n",
      "Done computing similarity matrix.\n",
      "Computing the pearson_baseline similarity matrix...\n",
      "Estimating biases using als...\n",
      "Done computing similarity matrix.\n",
      "Computing the pearson_baseline similarity matrix...\n",
      "Estimating biases using als...\n",
      "Done computing similarity matrix.\n",
      "Estimating biases using als...\n",
      "Computing the pearson_baseline similarity matrix...\n",
      "Computing the msd similarity matrix...\n",
      "Done computing similarity matrix.\n",
      "Estimating biases using als...\n",
      "Computing the msd similarity matrix...\n",
      "Done computing similarity matrix.\n",
      "Estimating biases using als...\n",
      "Done computing similarity matrix.\n",
      "Computing the msd similarity matrix...\n",
      "Estimating biases using als...\n",
      "Done computing similarity matrix.\n",
      "Computing the msd similarity matrix...\n",
      "Estimating biases using als...\n",
      "Done computing similarity matrix.\n",
      "Computing the msd similarity matrix...\n",
      "Estimating biases using als...\n",
      "Done computing similarity matrix.\n",
      "Computing the msd similarity matrix...\n",
      "Estimating biases using als...\n",
      "Done computing similarity matrix.\n",
      "Computing the cosine similarity matrix...\n",
      "Done computing similarity matrix.\n",
      "Estimating biases using als...\n",
      "Computing the cosine similarity matrix...\n",
      "Estimating biases using als...\n",
      "Computing the cosine similarity matrix...\n",
      "Done computing similarity matrix.\n",
      "Estimating biases using als...\n",
      "Computing the cosine similarity matrix...\n",
      "Done computing similarity matrix.\n",
      "Estimating biases using als...\n",
      "Done computing similarity matrix.\n",
      "Computing the cosine similarity matrix...\n",
      "Estimating biases using als...\n",
      "Done computing similarity matrix.\n",
      "Computing the cosine similarity matrix...\n",
      "Estimating biases using als...\n",
      "Done computing similarity matrix.\n",
      "Computing the pearson_baseline similarity matrix...\n",
      "Estimating biases using als...\n",
      "Done computing similarity matrix.\n",
      "Estimating biases using als...\n",
      "Computing the pearson_baseline similarity matrix...\n",
      "Computing the pearson_baseline similarity matrix...\n",
      "Done computing similarity matrix.\n",
      "Estimating biases using als...\n",
      "Computing the pearson_baseline similarity matrix...\n",
      "Estimating biases using als...\n",
      "Done computing similarity matrix.\n",
      "Done computing similarity matrix.\n",
      "Computing the pearson_baseline similarity matrix...\n",
      "Estimating biases using als...\n",
      "Computing the pearson_baseline similarity matrix...\n",
      "Done computing similarity matrix.\n",
      "Estimating biases using als...\n",
      "Done computing similarity matrix.\n",
      "Computing the msd similarity matrix...\n",
      "Estimating biases using als...\n",
      "Done computing similarity matrix.\n",
      "Computing the msd similarity matrix...\n",
      "Estimating biases using als...\n",
      "Done computing similarity matrix.\n",
      "Computing the msd similarity matrix...\n",
      "Estimating biases using als...\n",
      "Done computing similarity matrix.\n",
      "Computing the msd similarity matrix...\n",
      "Estimating biases using als...\n",
      "Done computing similarity matrix.\n",
      "Computing the msd similarity matrix...\n",
      "Estimating biases using als...\n",
      "Done computing similarity matrix.\n",
      "Computing the msd similarity matrix...\n",
      "Estimating biases using als...\n",
      "Done computing similarity matrix.\n",
      "Computing the cosine similarity matrix...\n",
      "Estimating biases using als...\n",
      "Done computing similarity matrix.\n",
      "Computing the cosine similarity matrix...\n",
      "Estimating biases using als...\n",
      "Computing the cosine similarity matrix...\n",
      "Done computing similarity matrix.\n",
      "Estimating biases using als...\n",
      "Computing the cosine similarity matrix...\n",
      "Done computing similarity matrix.\n",
      "Estimating biases using als...\n",
      "Computing the cosine similarity matrix...\n",
      "Done computing similarity matrix.\n",
      "Estimating biases using als...\n",
      "Done computing similarity matrix.\n",
      "Computing the cosine similarity matrix...\n",
      "Estimating biases using als...\n",
      "Computing the pearson_baseline similarity matrix...\n",
      "Done computing similarity matrix.\n",
      "Estimating biases using als...\n",
      "Computing the pearson_baseline similarity matrix...\n",
      "Done computing similarity matrix.\n",
      "Estimating biases using als...\n",
      "Done computing similarity matrix.\n",
      "Computing the pearson_baseline similarity matrix...\n",
      "Estimating biases using als...\n",
      "Computing the pearson_baseline similarity matrix...\n",
      "Done computing similarity matrix.\n",
      "Estimating biases using als...\n",
      "Computing the pearson_baseline similarity matrix...\n",
      "Estimating biases using als...\n",
      "Done computing similarity matrix.\n",
      "Computing the pearson_baseline similarity matrix...\n",
      "Done computing similarity matrix.\n",
      "Estimating biases using als...\n",
      "Computing the msd similarity matrix...\n",
      "Done computing similarity matrix.\n",
      "Estimating biases using als...\n",
      "Done computing similarity matrix.\n",
      "Computing the msd similarity matrix...\n",
      "Done computing similarity matrix.\n",
      "Estimating biases using als...\n",
      "Computing the msd similarity matrix...\n",
      "Estimating biases using als...\n",
      "Done computing similarity matrix.\n",
      "Computing the msd similarity matrix...\n",
      "Estimating biases using als...\n",
      "Done computing similarity matrix.\n",
      "Computing the msd similarity matrix...\n",
      "Estimating biases using als...\n",
      "Done computing similarity matrix.\n",
      "Computing the msd similarity matrix...\n",
      "Estimating biases using als...\n",
      "Done computing similarity matrix.\n",
      "Computing the cosine similarity matrix...\n",
      "Estimating biases using als...\n",
      "Done computing similarity matrix.\n",
      "Computing the cosine similarity matrix...\n",
      "Estimating biases using als...\n",
      "Computing the cosine similarity matrix...\n",
      "Estimating biases using als...\n",
      "Done computing similarity matrix.\n",
      "Computing the cosine similarity matrix...\n",
      "Done computing similarity matrix.\n",
      "Estimating biases using als...\n",
      "Done computing similarity matrix.\n",
      "Computing the cosine similarity matrix...\n",
      "Estimating biases using als...\n",
      "Done computing similarity matrix.\n",
      "Computing the cosine similarity matrix...\n",
      "Estimating biases using als...\n",
      "Computing the pearson_baseline similarity matrix...\n",
      "Done computing similarity matrix.\n",
      "Estimating biases using als...\n",
      "Computing the pearson_baseline similarity matrix...\n",
      "Done computing similarity matrix.\n",
      "Estimating biases using als...\n",
      "Computing the pearson_baseline similarity matrix...\n",
      "Done computing similarity matrix.\n",
      "Estimating biases using als...\n",
      "Done computing similarity matrix.\n",
      "Computing the pearson_baseline similarity matrix...\n",
      "Estimating biases using als...\n",
      "Done computing similarity matrix.\n",
      "Computing the pearson_baseline similarity matrix...\n",
      "Estimating biases using als...\n",
      "Done computing similarity matrix.\n",
      "Computing the pearson_baseline similarity matrix...\n",
      "Estimating biases using als...\n",
      "Computing the msd similarity matrix...\n",
      "Done computing similarity matrix.\n",
      "Estimating biases using als...\n",
      "Computing the msd similarity matrix...\n",
      "Estimating biases using als...\n",
      "Done computing similarity matrix.\n",
      "Done computing similarity matrix.\n",
      "Computing the msd similarity matrix...\n",
      "Estimating biases using als...\n",
      "Done computing similarity matrix.\n",
      "Computing the msd similarity matrix...\n",
      "Estimating biases using als...\n",
      "Done computing similarity matrix.\n",
      "Computing the msd similarity matrix...\n",
      "Estimating biases using als...\n",
      "Done computing similarity matrix.\n",
      "Computing the msd similarity matrix...\n",
      "Estimating biases using als...\n",
      "Done computing similarity matrix.\n",
      "Computing the cosine similarity matrix...\n",
      "Estimating biases using als...\n",
      "Done computing similarity matrix.\n",
      "Computing the cosine similarity matrix...\n",
      "Estimating biases using als...\n",
      "Computing the cosine similarity matrix...\n",
      "Done computing similarity matrix.\n",
      "Estimating biases using als...\n",
      "Done computing similarity matrix.\n",
      "Computing the cosine similarity matrix...\n",
      "Estimating biases using als...\n",
      "Done computing similarity matrix.\n",
      "Computing the cosine similarity matrix...\n",
      "Estimating biases using als...\n",
      "Done computing similarity matrix.\n",
      "Computing the cosine similarity matrix...\n",
      "Estimating biases using als...\n",
      "Computing the pearson_baseline similarity matrix...\n",
      "Done computing similarity matrix.\n",
      "Estimating biases using als...\n",
      "Computing the pearson_baseline similarity matrix...\n",
      "Done computing similarity matrix.\n",
      "Estimating biases using als...\n",
      "Computing the pearson_baseline similarity matrix...\n",
      "Done computing similarity matrix.\n",
      "Estimating biases using als...\n",
      "Done computing similarity matrix.\n",
      "Computing the pearson_baseline similarity matrix...\n",
      "Estimating biases using als...\n",
      "Computing the pearson_baseline similarity matrix...\n",
      "Estimating biases using als...\n",
      "Done computing similarity matrix.\n",
      "Computing the pearson_baseline similarity matrix...\n",
      "Done computing similarity matrix.\n",
      "Estimating biases using als...\n",
      "Computing the msd similarity matrix...\n",
      "Done computing similarity matrix.\n",
      "Estimating biases using als...\n",
      "Computing the msd similarity matrix...\n",
      "Estimating biases using als...\n",
      "Done computing similarity matrix.\n",
      "Done computing similarity matrix.\n",
      "Computing the msd similarity matrix...\n",
      "Estimating biases using als...\n",
      "Done computing similarity matrix.\n",
      "Computing the msd similarity matrix...\n",
      "Estimating biases using als...\n",
      "Done computing similarity matrix.\n",
      "Computing the msd similarity matrix...\n",
      "Estimating biases using als...\n",
      "Done computing similarity matrix.\n",
      "Computing the msd similarity matrix...\n",
      "Estimating biases using als...\n",
      "Done computing similarity matrix.\n",
      "Computing the cosine similarity matrix...\n",
      "Estimating biases using als...\n",
      "Done computing similarity matrix.\n",
      "Computing the cosine similarity matrix...\n",
      "Estimating biases using als...\n",
      "Done computing similarity matrix.\n",
      "Computing the cosine similarity matrix...\n",
      "Estimating biases using als...\n",
      "Done computing similarity matrix.\n",
      "Computing the cosine similarity matrix...\n",
      "Estimating biases using als...\n",
      "Done computing similarity matrix.\n",
      "Computing the cosine similarity matrix...\n",
      "Done computing similarity matrix.\n",
      "Estimating biases using als...\n",
      "Computing the cosine similarity matrix...\n",
      "Done computing similarity matrix.\n",
      "Estimating biases using als...\n",
      "Computing the pearson_baseline similarity matrix...\n",
      "Estimating biases using als...\n",
      "Done computing similarity matrix.\n",
      "Computing the pearson_baseline similarity matrix...\n",
      "Estimating biases using als...\n",
      "Done computing similarity matrix.\n",
      "Computing the pearson_baseline similarity matrix...\n",
      "Estimating biases using als...\n",
      "Done computing similarity matrix.\n",
      "Computing the pearson_baseline similarity matrix...\n",
      "Estimating biases using als...\n",
      "Done computing similarity matrix.\n",
      "Computing the pearson_baseline similarity matrix...\n",
      "Estimating biases using als...\n",
      "Done computing similarity matrix.\n",
      "Computing the pearson_baseline similarity matrix...\n",
      "Estimating biases using als...\n",
      "Done computing similarity matrix.\n",
      "Computing the msd similarity matrix...\n",
      "Estimating biases using als...\n",
      "Done computing similarity matrix.\n",
      "Computing the msd similarity matrix...\n",
      "Done computing similarity matrix.\n",
      "Estimating biases using als...\n",
      "Computing the msd similarity matrix...\n",
      "Done computing similarity matrix.\n",
      "Estimating biases using als...\n",
      "Computing the msd similarity matrix...\n",
      "Done computing similarity matrix.\n",
      "Estimating biases using als...\n",
      "Computing the msd similarity matrix...\n",
      "Done computing similarity matrix.\n",
      "Estimating biases using als...\n",
      "Computing the msd similarity matrix...\n",
      "Estimating biases using als...\n",
      "Done computing similarity matrix.\n",
      "Computing the cosine similarity matrix...\n",
      "Estimating biases using als...\n",
      "Done computing similarity matrix.\n",
      "Computing the cosine similarity matrix...\n",
      "Estimating biases using als...\n",
      "Computing the cosine similarity matrix...\n",
      "Done computing similarity matrix.\n",
      "Estimating biases using als...\n",
      "Computing the cosine similarity matrix...\n",
      "Done computing similarity matrix.\n",
      "Estimating biases using als...\n",
      "Done computing similarity matrix.\n",
      "Computing the cosine similarity matrix...\n",
      "Estimating biases using als...\n",
      "Done computing similarity matrix.\n",
      "Computing the cosine similarity matrix...\n",
      "Estimating biases using als...\n",
      "Done computing similarity matrix.\n",
      "Computing the pearson_baseline similarity matrix...\n",
      "Estimating biases using als...\n",
      "Computing the pearson_baseline similarity matrix...\n",
      "Done computing similarity matrix.\n",
      "Estimating biases using als...\n",
      "Computing the pearson_baseline similarity matrix...\n",
      "Done computing similarity matrix.\n",
      "Estimating biases using als...\n",
      "Computing the pearson_baseline similarity matrix...\n",
      "Done computing similarity matrix.\n",
      "Estimating biases using als...\n",
      "Computing the pearson_baseline similarity matrix...\n",
      "Estimating biases using als...\n",
      "Done computing similarity matrix.\n",
      "Computing the pearson_baseline similarity matrix...\n",
      "Done computing similarity matrix.\n",
      "Estimating biases using als...\n",
      "Computing the msd similarity matrix...\n",
      "Done computing similarity matrix.\n",
      "Estimating biases using als...\n",
      "Computing the msd similarity matrix...\n",
      "Done computing similarity matrix.\n",
      "Estimating biases using als...\n",
      "Done computing similarity matrix.\n",
      "Computing the msd similarity matrix...\n",
      "Estimating biases using als...\n",
      "Done computing similarity matrix.\n",
      "Computing the msd similarity matrix...\n",
      "Estimating biases using als...\n",
      "Done computing similarity matrix.\n",
      "Computing the msd similarity matrix...\n",
      "Done computing similarity matrix.\n",
      "Estimating biases using als...\n",
      "Computing the msd similarity matrix...\n",
      "Estimating biases using als...\n",
      "Done computing similarity matrix.\n",
      "Computing the cosine similarity matrix...\n",
      "Estimating biases using als...\n",
      "Done computing similarity matrix.\n",
      "Computing the cosine similarity matrix...\n",
      "Estimating biases using als...\n",
      "Computing the cosine similarity matrix...\n",
      "Estimating biases using als...\n",
      "Done computing similarity matrix.\n",
      "Computing the cosine similarity matrix...\n",
      "Done computing similarity matrix.\n",
      "Estimating biases using als...\n",
      "Computing the cosine similarity matrix...\n",
      "Done computing similarity matrix.\n",
      "Estimating biases using als...\n",
      "Done computing similarity matrix.\n",
      "Computing the cosine similarity matrix...\n",
      "Estimating biases using als...\n",
      "Computing the pearson_baseline similarity matrix...\n",
      "Estimating biases using als...\n",
      "Done computing similarity matrix.\n",
      "Done computing similarity matrix.\n",
      "Computing the pearson_baseline similarity matrix...\n",
      "Estimating biases using als...\n",
      "Done computing similarity matrix.\n",
      "Computing the pearson_baseline similarity matrix...\n",
      "Estimating biases using als...\n",
      "Computing the pearson_baseline similarity matrix...\n",
      "Done computing similarity matrix.\n",
      "Estimating biases using als...\n",
      "Computing the pearson_baseline similarity matrix...\n",
      "Done computing similarity matrix.\n",
      "Estimating biases using als...\n",
      "Done computing similarity matrix.\n",
      "Computing the pearson_baseline similarity matrix...\n",
      "Estimating biases using als...\n",
      "Done computing similarity matrix.\n",
      "Computing the msd similarity matrix...\n",
      "Estimating biases using als...\n",
      "Done computing similarity matrix.\n",
      "Computing the msd similarity matrix...\n",
      "Estimating biases using als...\n",
      "Done computing similarity matrix.\n",
      "Computing the msd similarity matrix...\n",
      "Estimating biases using als...\n",
      "Done computing similarity matrix.\n",
      "Computing the msd similarity matrix...\n",
      "Estimating biases using als...\n",
      "Done computing similarity matrix.\n",
      "Computing the msd similarity matrix...\n",
      "Estimating biases using als...\n",
      "Done computing similarity matrix.\n",
      "Computing the msd similarity matrix...\n",
      "Estimating biases using als...\n",
      "Done computing similarity matrix.\n",
      "Computing the cosine similarity matrix...\n",
      "Estimating biases using als...\n",
      "Done computing similarity matrix.\n",
      "Computing the cosine similarity matrix...\n",
      "Estimating biases using als...\n",
      "Computing the cosine similarity matrix...\n",
      "Done computing similarity matrix.\n",
      "Estimating biases using als...\n",
      "Computing the cosine similarity matrix...\n",
      "Estimating biases using als...\n",
      "Done computing similarity matrix.\n",
      "Computing the cosine similarity matrix...\n",
      "Done computing similarity matrix.\n",
      "Estimating biases using als...\n",
      "Done computing similarity matrix.\n",
      "Computing the cosine similarity matrix...\n",
      "Estimating biases using als...\n",
      "Done computing similarity matrix.\n",
      "Computing the pearson_baseline similarity matrix...\n",
      "Estimating biases using als...\n",
      "Done computing similarity matrix.\n",
      "Estimating biases using als...\n",
      "Computing the pearson_baseline similarity matrix...\n",
      "Computing the pearson_baseline similarity matrix...\n",
      "Estimating biases using als...\n",
      "Done computing similarity matrix.\n",
      "Computing the pearson_baseline similarity matrix...\n",
      "Done computing similarity matrix.\n",
      "Estimating biases using als...\n",
      "Done computing similarity matrix.\n",
      "Computing the pearson_baseline similarity matrix...\n",
      "Estimating biases using als...\n",
      "Done computing similarity matrix.\n",
      "Computing the pearson_baseline similarity matrix...\n",
      "Estimating biases using als...\n",
      "Done computing similarity matrix.\n",
      "Computing the msd similarity matrix...\n",
      "Estimating biases using als...\n",
      "Computing the msd similarity matrix...\n",
      "Estimating biases using als...\n",
      "Done computing similarity matrix.\n",
      "Done computing similarity matrix.\n",
      "Computing the msd similarity matrix...\n",
      "Estimating biases using als...\n",
      "Done computing similarity matrix.\n",
      "Computing the msd similarity matrix...\n",
      "Estimating biases using als...\n",
      "Done computing similarity matrix.\n",
      "Computing the msd similarity matrix...\n",
      "Estimating biases using als...\n",
      "Done computing similarity matrix.\n",
      "Computing the msd similarity matrix...\n",
      "Done computing similarity matrix.\n",
      "Estimating biases using als...\n",
      "Computing the cosine similarity matrix...\n",
      "Done computing similarity matrix.\n",
      "Estimating biases using als...\n",
      "Computing the cosine similarity matrix...\n",
      "Estimating biases using als...\n",
      "Computing the cosine similarity matrix...\n",
      "Done computing similarity matrix.\n",
      "Estimating biases using als...\n",
      "Done computing similarity matrix.\n",
      "Computing the cosine similarity matrix...\n",
      "Estimating biases using als...\n",
      "Done computing similarity matrix.\n",
      "Computing the cosine similarity matrix...\n",
      "Estimating biases using als...\n",
      "Done computing similarity matrix.\n",
      "Computing the cosine similarity matrix...\n",
      "Estimating biases using als...\n",
      "Computing the pearson_baseline similarity matrix...\n",
      "Done computing similarity matrix.\n",
      "Estimating biases using als...\n",
      "Done computing similarity matrix.\n",
      "Computing the pearson_baseline similarity matrix...\n",
      "Estimating biases using als...\n",
      "Done computing similarity matrix.\n",
      "Computing the pearson_baseline similarity matrix...\n",
      "Estimating biases using als...\n",
      "Done computing similarity matrix.\n",
      "Computing the pearson_baseline similarity matrix...\n",
      "Estimating biases using als...\n",
      "Done computing similarity matrix.\n",
      "Computing the pearson_baseline similarity matrix...\n",
      "Estimating biases using als...\n",
      "Done computing similarity matrix.\n",
      "Computing the pearson_baseline similarity matrix...\n",
      "Estimating biases using als...\n",
      "Done computing similarity matrix.\n",
      "Computing the msd similarity matrix...\n",
      "Estimating biases using als...\n",
      "Computing the msd similarity matrix...\n",
      "Done computing similarity matrix.\n",
      "Estimating biases using als...\n",
      "Done computing similarity matrix.\n",
      "Computing the msd similarity matrix...\n",
      "Done computing similarity matrix.\n",
      "Estimating biases using als...\n",
      "Computing the msd similarity matrix...\n",
      "Estimating biases using als...\n",
      "Done computing similarity matrix.\n",
      "Computing the msd similarity matrix...\n",
      "Estimating biases using als...\n",
      "Done computing similarity matrix.\n",
      "Computing the msd similarity matrix...\n",
      "Estimating biases using als...\n",
      "Done computing similarity matrix.\n",
      "Computing the cosine similarity matrix...\n",
      "Estimating biases using als...\n",
      "Done computing similarity matrix.\n",
      "Computing the cosine similarity matrix...\n",
      "Estimating biases using als...\n",
      "Computing the cosine similarity matrix...\n",
      "Done computing similarity matrix.\n",
      "Estimating biases using als...\n",
      "Computing the cosine similarity matrix...\n",
      "Done computing similarity matrix.\n",
      "Estimating biases using als...\n",
      "Done computing similarity matrix.\n",
      "Computing the cosine similarity matrix...\n",
      "Estimating biases using als...\n",
      "Done computing similarity matrix.\n",
      "Computing the cosine similarity matrix...\n",
      "Estimating biases using als...\n",
      "Computing the pearson_baseline similarity matrix...\n",
      "Estimating biases using als...\n",
      "Done computing similarity matrix.\n",
      "Computing the pearson_baseline similarity matrix...\n",
      "Done computing similarity matrix.\n",
      "Estimating biases using als...\n",
      "Computing the pearson_baseline similarity matrix...\n",
      "Done computing similarity matrix.\n",
      "Estimating biases using als...\n",
      "Done computing similarity matrix.\n",
      "Computing the pearson_baseline similarity matrix...\n",
      "Estimating biases using als...\n",
      "Computing the pearson_baseline similarity matrix...\n",
      "Estimating biases using als...\n",
      "Done computing similarity matrix.\n",
      "Computing the pearson_baseline similarity matrix...\n",
      "Done computing similarity matrix.\n",
      "Estimating biases using als...\n",
      "Computing the msd similarity matrix...\n",
      "Done computing similarity matrix.\n",
      "Estimating biases using als...\n",
      "Computing the msd similarity matrix...\n",
      "Done computing similarity matrix.\n",
      "Estimating biases using als...\n",
      "Done computing similarity matrix.\n",
      "Computing the msd similarity matrix...\n",
      "Estimating biases using als...\n",
      "Done computing similarity matrix.\n",
      "Computing the msd similarity matrix...\n",
      "Done computing similarity matrix.\n",
      "Estimating biases using als...\n",
      "Computing the msd similarity matrix...\n",
      "Estimating biases using als...\n",
      "Done computing similarity matrix.\n",
      "Computing the msd similarity matrix...\n",
      "Estimating biases using als...\n",
      "Done computing similarity matrix.\n",
      "Computing the cosine similarity matrix...\n",
      "Done computing similarity matrix.\n",
      "Estimating biases using als...\n",
      "Computing the cosine similarity matrix...\n",
      "Estimating biases using als...\n",
      "Computing the cosine similarity matrix...\n",
      "Done computing similarity matrix.\n",
      "Estimating biases using als...\n",
      "Computing the cosine similarity matrix...\n",
      "Done computing similarity matrix.\n",
      "Estimating biases using als...\n",
      "Computing the cosine similarity matrix...\n",
      "Done computing similarity matrix.\n",
      "Estimating biases using als...\n",
      "Done computing similarity matrix.\n",
      "Computing the cosine similarity matrix...\n",
      "Estimating biases using als...\n",
      "Done computing similarity matrix.\n",
      "Computing the pearson_baseline similarity matrix...\n",
      "Estimating biases using als...\n",
      "Done computing similarity matrix.\n",
      "Computing the pearson_baseline similarity matrix...\n",
      "Estimating biases using als...\n",
      "Computing the pearson_baseline similarity matrix...\n",
      "Done computing similarity matrix.\n",
      "Estimating biases using als...\n",
      "Computing the pearson_baseline similarity matrix...\n",
      "Done computing similarity matrix.\n",
      "Estimating biases using als...\n",
      "Computing the pearson_baseline similarity matrix...\n",
      "Done computing similarity matrix.\n",
      "Estimating biases using als...\n",
      "Done computing similarity matrix.\n",
      "Computing the pearson_baseline similarity matrix...\n",
      "Done computing similarity matrix.\n",
      "Done computing similarity matrix.\n",
      "RMSE: 0.934\n",
      "Parameters: {'k': 40, 'min_k': 5, 'sim_options': {'name': 'pearson_baseline', 'user_based': True}}\n"
     ]
    }
   ],
   "source": [
    "# Setting up parameter grid to tune the hyperparameters\n",
    "param_grid = {\n",
    "    \"k\": [10, 20, 30, 40],\n",
    "    \"min_k\": [1, 3, 5],\n",
    "    \"sim_options\": {\n",
    "        \"name\": [\"msd\", \"cosine\", \"pearson_baseline\"],\n",
    "        \"user_based\": [True],\n",
    "    },\n",
    "}\n",
    "\n",
    "model_uu.tune_hyperparameters(param_grid=param_grid, measure=[\"rmse\"], cv=6)"
   ]
  },
  {
   "cell_type": "code",
   "execution_count": 45,
   "metadata": {},
   "outputs": [
    {
     "data": {
      "text/markdown": [
       "**Predictive Quality Metrics**"
      ],
      "text/plain": [
       "<IPython.core.display.Markdown object>"
      ]
     },
     "metadata": {},
     "output_type": "display_data"
    },
    {
     "name": "stdout",
     "output_type": "stream",
     "text": [
      "RMSE: 0.934\n",
      "Precision@K: 0.51\n",
      "Recall@K: 0.345\n",
      "F1 Score@K: 0.412\n"
     ]
    },
    {
     "data": {
      "text/markdown": [
       "**Ranking Quality Metrics**"
      ],
      "text/plain": [
       "<IPython.core.display.Markdown object>"
      ]
     },
     "metadata": {},
     "output_type": "display_data"
    },
    {
     "name": "stdout",
     "output_type": "stream",
     "text": [
      "MRR: 0.815\n",
      "MAP: 0.756\n",
      "Hit Rate@K: 0.96\n"
     ]
    }
   ],
   "source": [
    "model_uu.fit_knn(trainset=trainset, use_tuned_params=True)\n",
    "model_uu_opt_metric = model_uu.evaluate(\n",
    "    trainset=trainset, testset=testset, k=k, th=threshold\n",
    ")"
   ]
  },
  {
   "cell_type": "code",
   "execution_count": null,
   "metadata": {},
   "outputs": [],
   "source": [
    "# Perform cross-validation\n",
    "cross_val(data=data, algo=model_uu, measures=[\"RMSE\", \"MAE\"], cv=6)"
   ]
  },
  {
   "cell_type": "code",
   "execution_count": 46,
   "metadata": {},
   "outputs": [
    {
     "data": {
      "text/markdown": [
       "**Rating Estimates for Interacted Products**"
      ],
      "text/plain": [
       "<IPython.core.display.Markdown object>"
      ]
     },
     "metadata": {},
     "output_type": "display_data"
    },
    {
     "name": "stdout",
     "output_type": "stream",
     "text": [
      "user: A3HPCRD9RX351S item: B00B3YQGHS r_ui = 5.00   est = 4.99   {'actual_k': 8, 'was_impossible': False}\n",
      "user: A3HPCRD9RX351S item: B007Y4NWQE r_ui = 5.00   est = 4.38   {'actual_k': 2, 'was_impossible': False}\n",
      "user: A2GL934UT3XENH item: B009LPV766 r_ui = 5.00   est = 4.70   {'actual_k': 4, 'was_impossible': False}\n",
      "user: A2GL934UT3XENH item: B00HPM1FZ0 r_ui = 5.00   est = 4.99   {'actual_k': 12, 'was_impossible': False}\n"
     ]
    },
    {
     "data": {
      "text/markdown": [
       "**Rating Estimates for Non-Interacted Products**"
      ],
      "text/plain": [
       "<IPython.core.display.Markdown object>"
      ]
     },
     "metadata": {},
     "output_type": "display_data"
    },
    {
     "name": "stdout",
     "output_type": "stream",
     "text": [
      "user: A3HPCRD9RX351S item: B0019M6GP6 r_ui = None   est = 4.60   {'actual_k': 0, 'was_impossible': False}\n",
      "user: A3HPCRD9RX351S item: B004I8WH9W r_ui = None   est = 4.30   {'actual_k': 0, 'was_impossible': False}\n",
      "user: A2GL934UT3XENH item: B0075SUK14 r_ui = None   est = 4.69   {'actual_k': 1, 'was_impossible': False}\n",
      "user: A2GL934UT3XENH item: B003FWEQDM r_ui = None   est = 4.84   {'actual_k': 0, 'was_impossible': False}\n"
     ]
    }
   ],
   "source": [
    "model_uu.predict(data=user_interactions, has_interacted=True)\n",
    "model_uu.predict(data=user_non_interactions, has_interacted=False)"
   ]
  },
  {
   "cell_type": "code",
   "execution_count": 47,
   "metadata": {},
   "outputs": [
    {
     "data": {
      "text/markdown": [
       "**Recommendations for User: A3HPCRD9RX351S**"
      ],
      "text/plain": [
       "<IPython.core.display.Markdown object>"
      ]
     },
     "metadata": {},
     "output_type": "display_data"
    },
    {
     "data": {
      "text/html": [
       "<div>\n",
       "<style scoped>\n",
       "    .dataframe tbody tr th:only-of-type {\n",
       "        vertical-align: middle;\n",
       "    }\n",
       "\n",
       "    .dataframe tbody tr th {\n",
       "        vertical-align: top;\n",
       "    }\n",
       "\n",
       "    .dataframe thead th {\n",
       "        text-align: right;\n",
       "    }\n",
       "</style>\n",
       "<table border=\"1\" class=\"dataframe\">\n",
       "  <thead>\n",
       "    <tr style=\"text-align: right;\">\n",
       "      <th></th>\n",
       "      <th>prod_id</th>\n",
       "      <th>estimated_ratings</th>\n",
       "      <th>details</th>\n",
       "    </tr>\n",
       "  </thead>\n",
       "  <tbody>\n",
       "    <tr>\n",
       "      <th>0</th>\n",
       "      <td>B002WE4HE2</td>\n",
       "      <td>5.00</td>\n",
       "      <td>{'actual_k': 5, 'was_impossible': False}</td>\n",
       "    </tr>\n",
       "    <tr>\n",
       "      <th>1</th>\n",
       "      <td>B00834SJSK</td>\n",
       "      <td>5.00</td>\n",
       "      <td>{'actual_k': 5, 'was_impossible': False}</td>\n",
       "    </tr>\n",
       "    <tr>\n",
       "      <th>2</th>\n",
       "      <td>B00DTZYHX4</td>\n",
       "      <td>5.00</td>\n",
       "      <td>{'actual_k': 6, 'was_impossible': False}</td>\n",
       "    </tr>\n",
       "    <tr>\n",
       "      <th>3</th>\n",
       "      <td>B00A35WYBA</td>\n",
       "      <td>4.97</td>\n",
       "      <td>{'actual_k': 5, 'was_impossible': False}</td>\n",
       "    </tr>\n",
       "    <tr>\n",
       "      <th>4</th>\n",
       "      <td>B00DK2JQOQ</td>\n",
       "      <td>4.96</td>\n",
       "      <td>{'actual_k': 5, 'was_impossible': False}</td>\n",
       "    </tr>\n",
       "  </tbody>\n",
       "</table>\n",
       "</div>"
      ],
      "text/plain": [
       "      prod_id  estimated_ratings                                   details\n",
       "0  B002WE4HE2               5.00  {'actual_k': 5, 'was_impossible': False}\n",
       "1  B00834SJSK               5.00  {'actual_k': 5, 'was_impossible': False}\n",
       "2  B00DTZYHX4               5.00  {'actual_k': 6, 'was_impossible': False}\n",
       "3  B00A35WYBA               4.97  {'actual_k': 5, 'was_impossible': False}\n",
       "4  B00DK2JQOQ               4.96  {'actual_k': 5, 'was_impossible': False}"
      ]
     },
     "metadata": {},
     "output_type": "display_data"
    },
    {
     "data": {
      "text/markdown": [
       "**Recommendations for User: A2GL934UT3XENH**"
      ],
      "text/plain": [
       "<IPython.core.display.Markdown object>"
      ]
     },
     "metadata": {},
     "output_type": "display_data"
    },
    {
     "data": {
      "text/html": [
       "<div>\n",
       "<style scoped>\n",
       "    .dataframe tbody tr th:only-of-type {\n",
       "        vertical-align: middle;\n",
       "    }\n",
       "\n",
       "    .dataframe tbody tr th {\n",
       "        vertical-align: top;\n",
       "    }\n",
       "\n",
       "    .dataframe thead th {\n",
       "        text-align: right;\n",
       "    }\n",
       "</style>\n",
       "<table border=\"1\" class=\"dataframe\">\n",
       "  <thead>\n",
       "    <tr style=\"text-align: right;\">\n",
       "      <th></th>\n",
       "      <th>prod_id</th>\n",
       "      <th>estimated_ratings</th>\n",
       "      <th>details</th>\n",
       "    </tr>\n",
       "  </thead>\n",
       "  <tbody>\n",
       "    <tr>\n",
       "      <th>0</th>\n",
       "      <td>B00006HSML</td>\n",
       "      <td>5</td>\n",
       "      <td>{'actual_k': 0, 'was_impossible': False}</td>\n",
       "    </tr>\n",
       "    <tr>\n",
       "      <th>1</th>\n",
       "      <td>B00007GQLS</td>\n",
       "      <td>5</td>\n",
       "      <td>{'actual_k': 0, 'was_impossible': False}</td>\n",
       "    </tr>\n",
       "    <tr>\n",
       "      <th>2</th>\n",
       "      <td>B000089GN3</td>\n",
       "      <td>5</td>\n",
       "      <td>{'actual_k': 1, 'was_impossible': False}</td>\n",
       "    </tr>\n",
       "    <tr>\n",
       "      <th>3</th>\n",
       "      <td>B00009R6WO</td>\n",
       "      <td>5</td>\n",
       "      <td>{'actual_k': 0, 'was_impossible': False}</td>\n",
       "    </tr>\n",
       "    <tr>\n",
       "      <th>4</th>\n",
       "      <td>B0000BZL1P</td>\n",
       "      <td>5</td>\n",
       "      <td>{'actual_k': 0, 'was_impossible': False}</td>\n",
       "    </tr>\n",
       "  </tbody>\n",
       "</table>\n",
       "</div>"
      ],
      "text/plain": [
       "      prod_id  estimated_ratings                                   details\n",
       "0  B00006HSML                  5  {'actual_k': 0, 'was_impossible': False}\n",
       "1  B00007GQLS                  5  {'actual_k': 0, 'was_impossible': False}\n",
       "2  B000089GN3                  5  {'actual_k': 1, 'was_impossible': False}\n",
       "3  B00009R6WO                  5  {'actual_k': 0, 'was_impossible': False}\n",
       "4  B0000BZL1P                  5  {'actual_k': 0, 'was_impossible': False}"
      ]
     },
     "metadata": {},
     "output_type": "display_data"
    }
   ],
   "source": [
    "model_uu.recommend(data=df, int_data=user_interactions)"
   ]
  },
  {
   "cell_type": "markdown",
   "metadata": {},
   "source": [
    "## Model 3: Item-Item Collaborative Filtering Recommendation System"
   ]
  },
  {
   "cell_type": "code",
   "execution_count": null,
   "metadata": {},
   "outputs": [],
   "source": [
    "# Common base parameter grid for most k-NN algorithms\n",
    "base_knn_param_grid = {\n",
    "    \"k\": [10, 20, 30],  # Limited range to check different neighbor sizes\n",
    "    \"min_k\": [1, 3, 5],  # Ensure some variation in minimum neighbors\n",
    "    \"sim_options\": {\n",
    "        \"name\": [\"cosine\", \"msd\", \"pearson\"],\n",
    "        \"user_based\": [False],\n",
    "    },\n",
    "}\n",
    "\n",
    "# Specific parameter grid for KNNBaseline algorithm\n",
    "knn_baseline_param_grid = {\n",
    "    **base_knn_param_grid,  # Use the base grid and extend it\n",
    "    \"sim_options\": {\n",
    "        \"name\": [\"cosine\", \"msd\", \"pearson\", \"pearson_baseline\"],\n",
    "        \"user_based\": [False],\n",
    "    },\n",
    "}\n",
    "\n",
    "# Combine all parameter grids into one dictionary\n",
    "knn_param_grids = {\n",
    "    \"KNNBasic\": base_knn_param_grid,\n",
    "    \"KNNWithMeans\": base_knn_param_grid,\n",
    "    \"KNNWithZScore\": base_knn_param_grid,\n",
    "    \"KNNBaseline\": knn_baseline_param_grid,\n",
    "}\n",
    "\n",
    "\n",
    "# Combine the parameter grids into a dictionary\n",
    "knn_algorithms = {\n",
    "    \"KNNBasic\": KNNBasic,\n",
    "    \"KNNWithMeans\": KNNWithMeans,\n",
    "    \"KNNWithZScore\": KNNWithZScore,\n",
    "    \"KNNBaseline\": KNNBaseline,\n",
    "}\n",
    "\n",
    "# Run grid search for all k-NN algorithms\n",
    "knn_baseline_name, knn_baseline_params = baseline_gs(\n",
    "    data, knn_algorithms, knn_param_grids, cv=3\n",
    ")"
   ]
  },
  {
   "cell_type": "code",
   "execution_count": null,
   "metadata": {},
   "outputs": [],
   "source": [
    "model = knn_algorithms[knn_baseline_name]\n",
    "params_grid = knn_baseline_params\n",
    "\n",
    "model_ii = RecommendationSystem(data=data, algo_class=model, params_grid=params_grid)"
   ]
  },
  {
   "cell_type": "code",
   "execution_count": 49,
   "metadata": {},
   "outputs": [
    {
     "data": {
      "text/markdown": [
       "**Predictive Quality Metrics**"
      ],
      "text/plain": [
       "<IPython.core.display.Markdown object>"
      ]
     },
     "metadata": {},
     "output_type": "display_data"
    },
    {
     "name": "stdout",
     "output_type": "stream",
     "text": [
      "RMSE: 1.004\n",
      "Precision@K: 0.557\n",
      "Recall@K: 0.401\n",
      "F1 Score@K: 0.466\n"
     ]
    },
    {
     "data": {
      "text/markdown": [
       "**Ranking Quality Metrics**"
      ],
      "text/plain": [
       "<IPython.core.display.Markdown object>"
      ]
     },
     "metadata": {},
     "output_type": "display_data"
    },
    {
     "name": "stdout",
     "output_type": "stream",
     "text": [
      "MRR: 0.793\n",
      "MAP: 0.737\n",
      "Hit Rate@K: 0.96\n"
     ]
    }
   ],
   "source": [
    "model_ii.fit_knn(trainset=trainset, use_tuned_params=False)\n",
    "model_ii_metric = model_ii.evaluate(\n",
    "    trainset=trainset, testset=testset, k=k, th=threshold\n",
    ")"
   ]
  },
  {
   "cell_type": "code",
   "execution_count": null,
   "metadata": {},
   "outputs": [],
   "source": [
    "# Perform cross-validation\n",
    "cross_val(data=data, algo=model_ii, measures=[\"RMSE\", \"MAE\"], cv=6)"
   ]
  },
  {
   "cell_type": "code",
   "execution_count": 50,
   "metadata": {},
   "outputs": [
    {
     "data": {
      "text/markdown": [
       "**Rating Estimates for Interacted Products**"
      ],
      "text/plain": [
       "<IPython.core.display.Markdown object>"
      ]
     },
     "metadata": {},
     "output_type": "display_data"
    },
    {
     "name": "stdout",
     "output_type": "stream",
     "text": [
      "user: A3HPCRD9RX351S item: B00B3YQGHS r_ui = 5.00   est = 5.00   {'actual_k': 10, 'was_impossible': False}\n",
      "user: A3HPCRD9RX351S item: B007Y4NWQE r_ui = 5.00   est = 5.00   {'actual_k': 1, 'was_impossible': False}\n",
      "user: A2GL934UT3XENH item: B009LPV766 r_ui = 5.00   est = 5.00   {'actual_k': 8, 'was_impossible': False}\n",
      "user: A2GL934UT3XENH item: B00HPM1FZ0 r_ui = 5.00   est = 4.96   {'actual_k': 11, 'was_impossible': False}\n"
     ]
    },
    {
     "data": {
      "text/markdown": [
       "**Rating Estimates for Non-Interacted Products**"
      ],
      "text/plain": [
       "<IPython.core.display.Markdown object>"
      ]
     },
     "metadata": {},
     "output_type": "display_data"
    },
    {
     "name": "stdout",
     "output_type": "stream",
     "text": [
      "user: A3HPCRD9RX351S item: B0019M6GP6 r_ui = None   est = 4.60   {'actual_k': 0, 'was_impossible': False}\n",
      "user: A3HPCRD9RX351S item: B004I8WH9W r_ui = None   est = 4.30   {'actual_k': 0, 'was_impossible': False}\n",
      "user: A2GL934UT3XENH item: B0075SUK14 r_ui = None   est = 5.00   {'actual_k': 1, 'was_impossible': False}\n",
      "user: A2GL934UT3XENH item: B003FWEQDM r_ui = None   est = 4.84   {'actual_k': 0, 'was_impossible': False}\n"
     ]
    }
   ],
   "source": [
    "model_ii.predict(data=user_interactions, has_interacted=True)\n",
    "model_ii.predict(data=user_non_interactions, has_interacted=False)"
   ]
  },
  {
   "cell_type": "code",
   "execution_count": 51,
   "metadata": {},
   "outputs": [
    {
     "name": "stdout",
     "output_type": "stream",
     "text": [
      "Estimating biases using als...\n",
      "Computing the pearson_baseline similarity matrix...\n",
      "Estimating biases using als...\n",
      "Computing the pearson_baseline similarity matrix...\n",
      "Estimating biases using als...\n",
      "Computing the pearson_baseline similarity matrix...\n",
      "Estimating biases using als...\n",
      "Computing the pearson_baseline similarity matrix...\n",
      "Estimating biases using als...\n",
      "Computing the pearson_baseline similarity matrix...\n",
      "Estimating biases using als...\n",
      "Computing the pearson_baseline similarity matrix...\n",
      "Estimating biases using als...\n",
      "Computing the pearson_baseline similarity matrix...\n",
      "Estimating biases using als...\n",
      "Computing the pearson_baseline similarity matrix...\n",
      "Estimating biases using als...\n",
      "Computing the pearson_baseline similarity matrix...\n",
      "Estimating biases using als...\n",
      "Computing the pearson_baseline similarity matrix...\n",
      "Estimating biases using als...\n",
      "Computing the pearson_baseline similarity matrix...\n",
      "Estimating biases using als...\n",
      "Computing the pearson_baseline similarity matrix...\n",
      "Done computing similarity matrix.\n",
      "Done computing similarity matrix.\n",
      "Done computing similarity matrix.\n",
      "Done computing similarity matrix.\n",
      "Done computing similarity matrix.\n",
      "Done computing similarity matrix.\n",
      "Done computing similarity matrix.\n",
      "Done computing similarity matrix.\n",
      "Done computing similarity matrix.\n",
      "Done computing similarity matrix.\n",
      "Done computing similarity matrix.\n",
      "Done computing similarity matrix.\n",
      "Estimating biases using als...\n",
      "Computing the pearson_baseline similarity matrix...\n",
      "Estimating biases using als...\n",
      "Computing the pearson_baseline similarity matrix...\n",
      "Estimating biases using als...\n",
      "Computing the pearson_baseline similarity matrix...\n",
      "Estimating biases using als...\n",
      "Computing the pearson_baseline similarity matrix...\n",
      "Estimating biases using als...\n",
      "Computing the pearson_baseline similarity matrix...\n",
      "Estimating biases using als...\n",
      "Computing the pearson_baseline similarity matrix...\n",
      "Estimating biases using als...\n",
      "Computing the pearson_baseline similarity matrix...\n",
      "Estimating biases using als...\n",
      "Computing the pearson_baseline similarity matrix...\n",
      "Estimating biases using als...\n",
      "Computing the pearson_baseline similarity matrix...\n",
      "Estimating biases using als...\n",
      "Computing the pearson_baseline similarity matrix...\n",
      "Estimating biases using als...\n",
      "Computing the pearson_baseline similarity matrix...\n",
      "Estimating biases using als...\n",
      "Computing the pearson_baseline similarity matrix...\n",
      "Done computing similarity matrix.\n",
      "Done computing similarity matrix.\n",
      "Done computing similarity matrix.\n",
      "Done computing similarity matrix.\n",
      "Done computing similarity matrix.\n",
      "Done computing similarity matrix.\n",
      "Done computing similarity matrix.\n",
      "Done computing similarity matrix.\n",
      "Done computing similarity matrix.\n",
      "Estimating biases using als...\n",
      "Computing the pearson_baseline similarity matrix...\n",
      "Done computing similarity matrix.\n",
      "Done computing similarity matrix.\n",
      "Done computing similarity matrix.\n",
      "Estimating biases using als...\n",
      "Computing the pearson_baseline similarity matrix...\n",
      "Estimating biases using als...\n",
      "Computing the pearson_baseline similarity matrix...\n",
      "Estimating biases using als...\n",
      "Computing the pearson_baseline similarity matrix...\n",
      "Estimating biases using als...\n",
      "Computing the pearson_baseline similarity matrix...\n",
      "Estimating biases using als...\n",
      "Computing the pearson_baseline similarity matrix...\n",
      "Estimating biases using als...\n",
      "Computing the pearson_baseline similarity matrix...\n",
      "Estimating biases using als...\n",
      "Computing the pearson_baseline similarity matrix...\n",
      "Estimating biases using als...\n",
      "Computing the pearson_baseline similarity matrix...\n",
      "Estimating biases using als...\n",
      "Computing the pearson_baseline similarity matrix...\n",
      "Estimating biases using als...\n",
      "Computing the pearson_baseline similarity matrix...\n",
      "Estimating biases using als...\n",
      "Computing the pearson_baseline similarity matrix...\n",
      "Done computing similarity matrix.\n",
      "Done computing similarity matrix.\n",
      "Done computing similarity matrix.\n",
      "Done computing similarity matrix.\n",
      "Done computing similarity matrix.\n",
      "Done computing similarity matrix.\n",
      "Done computing similarity matrix.\n",
      "Done computing similarity matrix.\n",
      "Done computing similarity matrix.\n",
      "Done computing similarity matrix.\n",
      "Done computing similarity matrix.\n",
      "Done computing similarity matrix.\n",
      "RMSE: 0.939\n",
      "Parameters: {'k': 40, 'min_k': 5, 'sim_options': {'name': 'pearson_baseline', 'user_based': False}}\n"
     ]
    }
   ],
   "source": [
    "# Setting up parameter grid to tune the hyperparameters\n",
    "param_grid = {\n",
    "    \"k\": [10, 20, 30, 40],\n",
    "    \"min_k\": [1, 3, 5],\n",
    "    \"sim_options\": {\n",
    "        \"name\": [\"pearson_baseline\"],\n",
    "        \"user_based\": [False],\n",
    "    },\n",
    "}\n",
    "\n",
    "model_ii.tune_hyperparameters(param_grid=param_grid, measure=[\"rmse\"], cv=3)"
   ]
  },
  {
   "cell_type": "code",
   "execution_count": 52,
   "metadata": {},
   "outputs": [
    {
     "data": {
      "text/markdown": [
       "**Predictive Quality Metrics**"
      ],
      "text/plain": [
       "<IPython.core.display.Markdown object>"
      ]
     },
     "metadata": {},
     "output_type": "display_data"
    },
    {
     "name": "stdout",
     "output_type": "stream",
     "text": [
      "RMSE: 0.934\n",
      "Precision@K: 0.511\n",
      "Recall@K: 0.344\n",
      "F1 Score@K: 0.411\n"
     ]
    },
    {
     "data": {
      "text/markdown": [
       "**Ranking Quality Metrics**"
      ],
      "text/plain": [
       "<IPython.core.display.Markdown object>"
      ]
     },
     "metadata": {},
     "output_type": "display_data"
    },
    {
     "name": "stdout",
     "output_type": "stream",
     "text": [
      "MRR: 0.818\n",
      "MAP: 0.757\n",
      "Hit Rate@K: 0.96\n"
     ]
    }
   ],
   "source": [
    "model_ii.fit_knn(trainset=trainset, use_tuned_params=True)\n",
    "model_ii_opt_metric = model_ii.evaluate(\n",
    "    trainset=trainset, testset=testset, k=k, th=threshold\n",
    ")"
   ]
  },
  {
   "cell_type": "code",
   "execution_count": null,
   "metadata": {},
   "outputs": [],
   "source": [
    "# Perform cross-validation\n",
    "cross_val(data=data, algo=model_ii, measures=[\"RMSE\", \"MAE\"], cv=6)"
   ]
  },
  {
   "cell_type": "code",
   "execution_count": 53,
   "metadata": {},
   "outputs": [
    {
     "data": {
      "text/markdown": [
       "**Rating Estimates for Interacted Products**"
      ],
      "text/plain": [
       "<IPython.core.display.Markdown object>"
      ]
     },
     "metadata": {},
     "output_type": "display_data"
    },
    {
     "name": "stdout",
     "output_type": "stream",
     "text": [
      "user: A3HPCRD9RX351S item: B00B3YQGHS r_ui = 5.00   est = 5.00   {'actual_k': 10, 'was_impossible': False}\n",
      "user: A3HPCRD9RX351S item: B007Y4NWQE r_ui = 5.00   est = 4.38   {'actual_k': 1, 'was_impossible': False}\n",
      "user: A2GL934UT3XENH item: B009LPV766 r_ui = 5.00   est = 5.00   {'actual_k': 8, 'was_impossible': False}\n",
      "user: A2GL934UT3XENH item: B00HPM1FZ0 r_ui = 5.00   est = 4.96   {'actual_k': 11, 'was_impossible': False}\n"
     ]
    },
    {
     "data": {
      "text/markdown": [
       "**Rating Estimates for Non-Interacted Products**"
      ],
      "text/plain": [
       "<IPython.core.display.Markdown object>"
      ]
     },
     "metadata": {},
     "output_type": "display_data"
    },
    {
     "name": "stdout",
     "output_type": "stream",
     "text": [
      "user: A3HPCRD9RX351S item: B0019M6GP6 r_ui = None   est = 4.60   {'actual_k': 0, 'was_impossible': False}\n",
      "user: A3HPCRD9RX351S item: B004I8WH9W r_ui = None   est = 4.30   {'actual_k': 0, 'was_impossible': False}\n",
      "user: A2GL934UT3XENH item: B0075SUK14 r_ui = None   est = 4.69   {'actual_k': 1, 'was_impossible': False}\n",
      "user: A2GL934UT3XENH item: B003FWEQDM r_ui = None   est = 4.84   {'actual_k': 0, 'was_impossible': False}\n"
     ]
    }
   ],
   "source": [
    "model_ii.predict(data=user_interactions, has_interacted=True)\n",
    "model_ii.predict(data=user_non_interactions, has_interacted=False)"
   ]
  },
  {
   "cell_type": "code",
   "execution_count": 54,
   "metadata": {},
   "outputs": [
    {
     "data": {
      "text/markdown": [
       "**Recommendations for User: A3HPCRD9RX351S**"
      ],
      "text/plain": [
       "<IPython.core.display.Markdown object>"
      ]
     },
     "metadata": {},
     "output_type": "display_data"
    },
    {
     "data": {
      "text/html": [
       "<div>\n",
       "<style scoped>\n",
       "    .dataframe tbody tr th:only-of-type {\n",
       "        vertical-align: middle;\n",
       "    }\n",
       "\n",
       "    .dataframe tbody tr th {\n",
       "        vertical-align: top;\n",
       "    }\n",
       "\n",
       "    .dataframe thead th {\n",
       "        text-align: right;\n",
       "    }\n",
       "</style>\n",
       "<table border=\"1\" class=\"dataframe\">\n",
       "  <thead>\n",
       "    <tr style=\"text-align: right;\">\n",
       "      <th></th>\n",
       "      <th>prod_id</th>\n",
       "      <th>estimated_ratings</th>\n",
       "      <th>details</th>\n",
       "    </tr>\n",
       "  </thead>\n",
       "  <tbody>\n",
       "    <tr>\n",
       "      <th>0</th>\n",
       "      <td>B000N99BBC</td>\n",
       "      <td>5.00</td>\n",
       "      <td>{'actual_k': 8, 'was_impossible': False}</td>\n",
       "    </tr>\n",
       "    <tr>\n",
       "      <th>1</th>\n",
       "      <td>B0019EHU8G</td>\n",
       "      <td>5.00</td>\n",
       "      <td>{'actual_k': 6, 'was_impossible': False}</td>\n",
       "    </tr>\n",
       "    <tr>\n",
       "      <th>2</th>\n",
       "      <td>B003ES5ZUU</td>\n",
       "      <td>4.98</td>\n",
       "      <td>{'actual_k': 14, 'was_impossible': False}</td>\n",
       "    </tr>\n",
       "    <tr>\n",
       "      <th>3</th>\n",
       "      <td>B000JE7GPY</td>\n",
       "      <td>4.96</td>\n",
       "      <td>{'actual_k': 6, 'was_impossible': False}</td>\n",
       "    </tr>\n",
       "    <tr>\n",
       "      <th>4</th>\n",
       "      <td>B00G4UQ6U8</td>\n",
       "      <td>4.93</td>\n",
       "      <td>{'actual_k': 5, 'was_impossible': False}</td>\n",
       "    </tr>\n",
       "  </tbody>\n",
       "</table>\n",
       "</div>"
      ],
      "text/plain": [
       "      prod_id  estimated_ratings                                    details\n",
       "0  B000N99BBC               5.00   {'actual_k': 8, 'was_impossible': False}\n",
       "1  B0019EHU8G               5.00   {'actual_k': 6, 'was_impossible': False}\n",
       "2  B003ES5ZUU               4.98  {'actual_k': 14, 'was_impossible': False}\n",
       "3  B000JE7GPY               4.96   {'actual_k': 6, 'was_impossible': False}\n",
       "4  B00G4UQ6U8               4.93   {'actual_k': 5, 'was_impossible': False}"
      ]
     },
     "metadata": {},
     "output_type": "display_data"
    },
    {
     "data": {
      "text/markdown": [
       "**Recommendations for User: A2GL934UT3XENH**"
      ],
      "text/plain": [
       "<IPython.core.display.Markdown object>"
      ]
     },
     "metadata": {},
     "output_type": "display_data"
    },
    {
     "data": {
      "text/html": [
       "<div>\n",
       "<style scoped>\n",
       "    .dataframe tbody tr th:only-of-type {\n",
       "        vertical-align: middle;\n",
       "    }\n",
       "\n",
       "    .dataframe tbody tr th {\n",
       "        vertical-align: top;\n",
       "    }\n",
       "\n",
       "    .dataframe thead th {\n",
       "        text-align: right;\n",
       "    }\n",
       "</style>\n",
       "<table border=\"1\" class=\"dataframe\">\n",
       "  <thead>\n",
       "    <tr style=\"text-align: right;\">\n",
       "      <th></th>\n",
       "      <th>prod_id</th>\n",
       "      <th>estimated_ratings</th>\n",
       "      <th>details</th>\n",
       "    </tr>\n",
       "  </thead>\n",
       "  <tbody>\n",
       "    <tr>\n",
       "      <th>0</th>\n",
       "      <td>B00006HSML</td>\n",
       "      <td>5</td>\n",
       "      <td>{'actual_k': 1, 'was_impossible': False}</td>\n",
       "    </tr>\n",
       "    <tr>\n",
       "      <th>1</th>\n",
       "      <td>B00007GQLS</td>\n",
       "      <td>5</td>\n",
       "      <td>{'actual_k': 0, 'was_impossible': False}</td>\n",
       "    </tr>\n",
       "    <tr>\n",
       "      <th>2</th>\n",
       "      <td>B000089GN3</td>\n",
       "      <td>5</td>\n",
       "      <td>{'actual_k': 1, 'was_impossible': False}</td>\n",
       "    </tr>\n",
       "    <tr>\n",
       "      <th>3</th>\n",
       "      <td>B00009R6WO</td>\n",
       "      <td>5</td>\n",
       "      <td>{'actual_k': 1, 'was_impossible': False}</td>\n",
       "    </tr>\n",
       "    <tr>\n",
       "      <th>4</th>\n",
       "      <td>B0000BZL1P</td>\n",
       "      <td>5</td>\n",
       "      <td>{'actual_k': 0, 'was_impossible': False}</td>\n",
       "    </tr>\n",
       "  </tbody>\n",
       "</table>\n",
       "</div>"
      ],
      "text/plain": [
       "      prod_id  estimated_ratings                                   details\n",
       "0  B00006HSML                  5  {'actual_k': 1, 'was_impossible': False}\n",
       "1  B00007GQLS                  5  {'actual_k': 0, 'was_impossible': False}\n",
       "2  B000089GN3                  5  {'actual_k': 1, 'was_impossible': False}\n",
       "3  B00009R6WO                  5  {'actual_k': 1, 'was_impossible': False}\n",
       "4  B0000BZL1P                  5  {'actual_k': 0, 'was_impossible': False}"
      ]
     },
     "metadata": {},
     "output_type": "display_data"
    }
   ],
   "source": [
    "model_ii.recommend(data=df, int_data=user_interactions)"
   ]
  },
  {
   "cell_type": "markdown",
   "metadata": {},
   "source": [
    "## Model 4: Model-Based Collaborative Filtering - Matrix Factorization"
   ]
  },
  {
   "cell_type": "markdown",
   "metadata": {},
   "source": [
    "Model-based Collaborative Filtering is a **personalized recommendation system** that relies solely on user-item interaction data. It makes recommendations by decomposing the user-item interaction matrix into lower-dimensional matrices, capturing latent factors that represent user and item characteristics."
   ]
  },
  {
   "cell_type": "markdown",
   "metadata": {},
   "source": [
    "### Baseline | Singular Value Decomposition (SVD)"
   ]
  },
  {
   "cell_type": "markdown",
   "metadata": {},
   "source": [
    "SVD is used to **compute the latent features** from the **user-item matrix**. But SVD does not work when we **miss values** in the **user-item matrix**."
   ]
  },
  {
   "cell_type": "code",
   "execution_count": null,
   "metadata": {},
   "outputs": [],
   "source": [
    "# Common base parameter grid for SVD algorithms\n",
    "base_svd_param_grid = {\n",
    "    \"n_epochs\": [10, 20, 30],\n",
    "    \"lr_all\": [0.005, 0.007, 0.01],  # Learning rate for all\n",
    "    \"reg_all\": [0.02, 0.05, 0.1],  # Regularization parameter\n",
    "    \"n_factors\": [50, 100],  # Number of latent factors\n",
    "}\n",
    "\n",
    "# Combine all parameter grids into one dictionary for SVD algorithms\n",
    "svd_param_grids = {\n",
    "    \"SVD\": base_svd_param_grid,\n",
    "    \"SVD++\": base_svd_param_grid,\n",
    "}\n",
    "\n",
    "# Dictionary of SVD algorithms\n",
    "svd_algorithms = {\n",
    "    \"SVD\": SVD,\n",
    "    \"SVD++\": SVDpp,\n",
    "}\n",
    "\n",
    "# Run grid search for all SVD algorithms\n",
    "svd_baseline_name, svd_baseline_params = baseline_gs(\n",
    "    data, svd_algorithms, svd_param_grids, cv=3\n",
    ")"
   ]
  },
  {
   "cell_type": "code",
   "execution_count": null,
   "metadata": {},
   "outputs": [],
   "source": [
    "model = svd_algorithms[svd_baseline_name]\n",
    "params_grid = svd_baseline_params\n",
    "\n",
    "model_svd = RecommendationSystem(data=data, algo_class=model, params_grid=params_grid)"
   ]
  },
  {
   "cell_type": "code",
   "execution_count": 56,
   "metadata": {},
   "outputs": [
    {
     "data": {
      "text/markdown": [
       "**Predictive Quality Metrics**"
      ],
      "text/plain": [
       "<IPython.core.display.Markdown object>"
      ]
     },
     "metadata": {},
     "output_type": "display_data"
    },
    {
     "name": "stdout",
     "output_type": "stream",
     "text": [
      "RMSE: 0.936\n",
      "Precision@K: 0.516\n",
      "Recall@K: 0.383\n",
      "F1 Score@K: 0.44\n"
     ]
    },
    {
     "data": {
      "text/markdown": [
       "**Ranking Quality Metrics**"
      ],
      "text/plain": [
       "<IPython.core.display.Markdown object>"
      ]
     },
     "metadata": {},
     "output_type": "display_data"
    },
    {
     "name": "stdout",
     "output_type": "stream",
     "text": [
      "MRR: 0.812\n",
      "MAP: 0.75\n",
      "Hit Rate@K: 0.96\n"
     ]
    }
   ],
   "source": [
    "model_svd.fit_svd(trainset=trainset, use_tuned_params=False)\n",
    "model_svd_metric = model_svd.evaluate(\n",
    "    trainset=trainset, testset=testset, k=k, th=threshold\n",
    ")"
   ]
  },
  {
   "cell_type": "code",
   "execution_count": null,
   "metadata": {},
   "outputs": [],
   "source": [
    "# Perform cross-validation\n",
    "cross_val(data=data, algo=model_svd, measures=[\"RMSE\", \"MAE\"], cv=6)"
   ]
  },
  {
   "cell_type": "code",
   "execution_count": 57,
   "metadata": {},
   "outputs": [
    {
     "data": {
      "text/markdown": [
       "**Rating Estimates for Interacted Products**"
      ],
      "text/plain": [
       "<IPython.core.display.Markdown object>"
      ]
     },
     "metadata": {},
     "output_type": "display_data"
    },
    {
     "name": "stdout",
     "output_type": "stream",
     "text": [
      "user: A3HPCRD9RX351S item: B00B3YQGHS r_ui = 5.00   est = 4.59   {'was_impossible': False}\n",
      "user: A3HPCRD9RX351S item: B007Y4NWQE r_ui = 5.00   est = 4.61   {'was_impossible': False}\n",
      "user: A2GL934UT3XENH item: B009LPV766 r_ui = 5.00   est = 4.84   {'was_impossible': False}\n",
      "user: A2GL934UT3XENH item: B00HPM1FZ0 r_ui = 5.00   est = 4.51   {'was_impossible': False}\n"
     ]
    },
    {
     "data": {
      "text/markdown": [
       "**Rating Estimates for Non-Interacted Products**"
      ],
      "text/plain": [
       "<IPython.core.display.Markdown object>"
      ]
     },
     "metadata": {},
     "output_type": "display_data"
    },
    {
     "name": "stdout",
     "output_type": "stream",
     "text": [
      "user: A3HPCRD9RX351S item: B0019M6GP6 r_ui = None   est = 4.81   {'was_impossible': False}\n",
      "user: A3HPCRD9RX351S item: B004I8WH9W r_ui = None   est = 4.34   {'was_impossible': False}\n",
      "user: A2GL934UT3XENH item: B0075SUK14 r_ui = None   est = 4.91   {'was_impossible': False}\n",
      "user: A2GL934UT3XENH item: B003FWEQDM r_ui = None   est = 5.00   {'was_impossible': False}\n"
     ]
    }
   ],
   "source": [
    "model_svd.predict(data=user_interactions, has_interacted=True)\n",
    "model_svd.predict(data=user_non_interactions, has_interacted=False)"
   ]
  },
  {
   "cell_type": "code",
   "execution_count": 58,
   "metadata": {},
   "outputs": [
    {
     "name": "stdout",
     "output_type": "stream",
     "text": [
      "RMSE: 0.927\n",
      "Parameters: {'n_epochs': 30, 'lr_all': 0.005, 'reg_all': 0.2, 'n_factors': 50}\n"
     ]
    }
   ],
   "source": [
    "# Setting up parameter grid to tune the hyperparameters\n",
    "param_grid = {\n",
    "    \"n_epochs\": [10, 20, 30],  # Number of epochs\n",
    "    \"lr_all\": [0.002, 0.005, 0.01],  # Learning Rate\n",
    "    \"reg_all\": [0.001, 0.005, 0.01, 0.02, 0.05, 0.1, 0.2, 0.5],  # Regularization\n",
    "    \"n_factors\": [50, 100, 150],  # Number of latent factors\n",
    "}\n",
    "\n",
    "model_svd.tune_hyperparameters(param_grid=param_grid, measure=[\"rmse\"], cv=6)"
   ]
  },
  {
   "cell_type": "code",
   "execution_count": 59,
   "metadata": {},
   "outputs": [
    {
     "data": {
      "text/markdown": [
       "**Predictive Quality Metrics**"
      ],
      "text/plain": [
       "<IPython.core.display.Markdown object>"
      ]
     },
     "metadata": {},
     "output_type": "display_data"
    },
    {
     "name": "stdout",
     "output_type": "stream",
     "text": [
      "RMSE: 0.928\n",
      "Precision@K: 0.511\n",
      "Recall@K: 0.382\n",
      "F1 Score@K: 0.437\n"
     ]
    },
    {
     "data": {
      "text/markdown": [
       "**Ranking Quality Metrics**"
      ],
      "text/plain": [
       "<IPython.core.display.Markdown object>"
      ]
     },
     "metadata": {},
     "output_type": "display_data"
    },
    {
     "name": "stdout",
     "output_type": "stream",
     "text": [
      "MRR: 0.814\n",
      "MAP: 0.756\n",
      "Hit Rate@K: 0.96\n"
     ]
    }
   ],
   "source": [
    "model_svd.fit_svd(trainset=trainset, use_tuned_params=True)\n",
    "model_svd_opt_metric = model_svd.evaluate(\n",
    "    trainset=trainset, testset=testset, k=k, th=threshold\n",
    ")"
   ]
  },
  {
   "cell_type": "code",
   "execution_count": null,
   "metadata": {},
   "outputs": [],
   "source": [
    "# Perform cross-validation\n",
    "cross_val(data=data, algo=model_svd, measures=[\"RMSE\", \"MAE\"], cv=6)"
   ]
  },
  {
   "cell_type": "code",
   "execution_count": 60,
   "metadata": {},
   "outputs": [
    {
     "data": {
      "text/markdown": [
       "**Rating Estimates for Interacted Products**"
      ],
      "text/plain": [
       "<IPython.core.display.Markdown object>"
      ]
     },
     "metadata": {},
     "output_type": "display_data"
    },
    {
     "name": "stdout",
     "output_type": "stream",
     "text": [
      "user: A3HPCRD9RX351S item: B00B3YQGHS r_ui = 5.00   est = 4.66   {'was_impossible': False}\n",
      "user: A3HPCRD9RX351S item: B007Y4NWQE r_ui = 5.00   est = 4.47   {'was_impossible': False}\n",
      "user: A2GL934UT3XENH item: B009LPV766 r_ui = 5.00   est = 4.80   {'was_impossible': False}\n",
      "user: A2GL934UT3XENH item: B00HPM1FZ0 r_ui = 5.00   est = 4.39   {'was_impossible': False}\n"
     ]
    },
    {
     "data": {
      "text/markdown": [
       "**Rating Estimates for Non-Interacted Products**"
      ],
      "text/plain": [
       "<IPython.core.display.Markdown object>"
      ]
     },
     "metadata": {},
     "output_type": "display_data"
    },
    {
     "name": "stdout",
     "output_type": "stream",
     "text": [
      "user: A3HPCRD9RX351S item: B0019M6GP6 r_ui = None   est = 4.70   {'was_impossible': False}\n",
      "user: A3HPCRD9RX351S item: B004I8WH9W r_ui = None   est = 4.27   {'was_impossible': False}\n",
      "user: A2GL934UT3XENH item: B0075SUK14 r_ui = None   est = 4.84   {'was_impossible': False}\n",
      "user: A2GL934UT3XENH item: B003FWEQDM r_ui = None   est = 5.00   {'was_impossible': False}\n"
     ]
    }
   ],
   "source": [
    "model_svd.predict(data=user_interactions, has_interacted=True)\n",
    "model_svd.predict(data=user_non_interactions, has_interacted=False)"
   ]
  },
  {
   "cell_type": "code",
   "execution_count": 61,
   "metadata": {},
   "outputs": [
    {
     "data": {
      "text/markdown": [
       "**Recommendations for User: A3HPCRD9RX351S**"
      ],
      "text/plain": [
       "<IPython.core.display.Markdown object>"
      ]
     },
     "metadata": {},
     "output_type": "display_data"
    },
    {
     "data": {
      "text/html": [
       "<div>\n",
       "<style scoped>\n",
       "    .dataframe tbody tr th:only-of-type {\n",
       "        vertical-align: middle;\n",
       "    }\n",
       "\n",
       "    .dataframe tbody tr th {\n",
       "        vertical-align: top;\n",
       "    }\n",
       "\n",
       "    .dataframe thead th {\n",
       "        text-align: right;\n",
       "    }\n",
       "</style>\n",
       "<table border=\"1\" class=\"dataframe\">\n",
       "  <thead>\n",
       "    <tr style=\"text-align: right;\">\n",
       "      <th></th>\n",
       "      <th>prod_id</th>\n",
       "      <th>estimated_ratings</th>\n",
       "      <th>details</th>\n",
       "    </tr>\n",
       "  </thead>\n",
       "  <tbody>\n",
       "    <tr>\n",
       "      <th>0</th>\n",
       "      <td>B0010Y414Q</td>\n",
       "      <td>4.97</td>\n",
       "      <td>{'was_impossible': False}</td>\n",
       "    </tr>\n",
       "    <tr>\n",
       "      <th>1</th>\n",
       "      <td>B001FA09WI</td>\n",
       "      <td>4.96</td>\n",
       "      <td>{'was_impossible': False}</td>\n",
       "    </tr>\n",
       "    <tr>\n",
       "      <th>2</th>\n",
       "      <td>B002TLTG9E</td>\n",
       "      <td>4.95</td>\n",
       "      <td>{'was_impossible': False}</td>\n",
       "    </tr>\n",
       "    <tr>\n",
       "      <th>3</th>\n",
       "      <td>B0076W9Q5A</td>\n",
       "      <td>4.93</td>\n",
       "      <td>{'was_impossible': False}</td>\n",
       "    </tr>\n",
       "    <tr>\n",
       "      <th>4</th>\n",
       "      <td>B00HG1L334</td>\n",
       "      <td>4.93</td>\n",
       "      <td>{'was_impossible': False}</td>\n",
       "    </tr>\n",
       "  </tbody>\n",
       "</table>\n",
       "</div>"
      ],
      "text/plain": [
       "      prod_id  estimated_ratings                    details\n",
       "0  B0010Y414Q               4.97  {'was_impossible': False}\n",
       "1  B001FA09WI               4.96  {'was_impossible': False}\n",
       "2  B002TLTG9E               4.95  {'was_impossible': False}\n",
       "3  B0076W9Q5A               4.93  {'was_impossible': False}\n",
       "4  B00HG1L334               4.93  {'was_impossible': False}"
      ]
     },
     "metadata": {},
     "output_type": "display_data"
    },
    {
     "data": {
      "text/markdown": [
       "**Recommendations for User: A2GL934UT3XENH**"
      ],
      "text/plain": [
       "<IPython.core.display.Markdown object>"
      ]
     },
     "metadata": {},
     "output_type": "display_data"
    },
    {
     "data": {
      "text/html": [
       "<div>\n",
       "<style scoped>\n",
       "    .dataframe tbody tr th:only-of-type {\n",
       "        vertical-align: middle;\n",
       "    }\n",
       "\n",
       "    .dataframe tbody tr th {\n",
       "        vertical-align: top;\n",
       "    }\n",
       "\n",
       "    .dataframe thead th {\n",
       "        text-align: right;\n",
       "    }\n",
       "</style>\n",
       "<table border=\"1\" class=\"dataframe\">\n",
       "  <thead>\n",
       "    <tr style=\"text-align: right;\">\n",
       "      <th></th>\n",
       "      <th>prod_id</th>\n",
       "      <th>estimated_ratings</th>\n",
       "      <th>details</th>\n",
       "    </tr>\n",
       "  </thead>\n",
       "  <tbody>\n",
       "    <tr>\n",
       "      <th>0</th>\n",
       "      <td>B00000J061</td>\n",
       "      <td>5</td>\n",
       "      <td>{'was_impossible': False}</td>\n",
       "    </tr>\n",
       "    <tr>\n",
       "      <th>1</th>\n",
       "      <td>B00000J1UQ</td>\n",
       "      <td>5</td>\n",
       "      <td>{'was_impossible': False}</td>\n",
       "    </tr>\n",
       "    <tr>\n",
       "      <th>2</th>\n",
       "      <td>B00000J1V5</td>\n",
       "      <td>5</td>\n",
       "      <td>{'was_impossible': False}</td>\n",
       "    </tr>\n",
       "    <tr>\n",
       "      <th>3</th>\n",
       "      <td>B00000JDF5</td>\n",
       "      <td>5</td>\n",
       "      <td>{'was_impossible': False}</td>\n",
       "    </tr>\n",
       "    <tr>\n",
       "      <th>4</th>\n",
       "      <td>B00000K4KH</td>\n",
       "      <td>5</td>\n",
       "      <td>{'was_impossible': False}</td>\n",
       "    </tr>\n",
       "  </tbody>\n",
       "</table>\n",
       "</div>"
      ],
      "text/plain": [
       "      prod_id  estimated_ratings                    details\n",
       "0  B00000J061                  5  {'was_impossible': False}\n",
       "1  B00000J1UQ                  5  {'was_impossible': False}\n",
       "2  B00000J1V5                  5  {'was_impossible': False}\n",
       "3  B00000JDF5                  5  {'was_impossible': False}\n",
       "4  B00000K4KH                  5  {'was_impossible': False}"
      ]
     },
     "metadata": {},
     "output_type": "display_data"
    }
   ],
   "source": [
    "model_svd.recommend(data=df, int_data=user_interactions)"
   ]
  },
  {
   "cell_type": "markdown",
   "metadata": {},
   "source": [
    "## Model Comparison"
   ]
  },
  {
   "cell_type": "code",
   "execution_count": null,
   "metadata": {},
   "outputs": [],
   "source": [
    "# Define metric dictionaries\n",
    "baseline_metrics = {\n",
    "    \"model_uu_train\": model_uu_metric[0],\n",
    "    \"model_uu_test\": model_uu_metric[1],\n",
    "    \"model_ii_train\": model_ii_metric[0],\n",
    "    \"model_ii_test\": model_ii_metric[1],\n",
    "    \"model_svd_train\": model_svd_metric[0],\n",
    "    \"model_svd_test\": model_svd_metric[1],\n",
    "}\n",
    "\n",
    "tuned_metrics = {\n",
    "    \"model_uu_train\": model_uu_opt_metric[0],\n",
    "    \"model_uu_test\": model_uu_opt_metric[1],\n",
    "    \"model_ii_train\": model_ii_opt_metric[0],\n",
    "    \"model_ii_test\": model_ii_opt_metric[1],\n",
    "    \"model_svd_train\": model_svd_opt_metric[0],\n",
    "    \"model_svd_test\": model_svd_opt_metric[1],\n",
    "}\n",
    "\n",
    "# Generate algorithm names dynamically\n",
    "algo_names = [\n",
    "    algo.algo_name\n",
    "    for algo in [model_uu, model_uu, model_ii, model_ii, model_svd, model_svd]\n",
    "]\n",
    "\n",
    "# Display DataFrames\n",
    "prepare_and_display_metrics(baseline_metrics, algo_names, \"Baseline Models\")\n",
    "prepare_and_display_metrics(tuned_metrics, algo_names, \"Tuned Models\")"
   ]
  },
  {
   "cell_type": "code",
   "execution_count": 65,
   "metadata": {},
   "outputs": [
    {
     "name": "stdout",
     "output_type": "stream",
     "text": [
      "----------------------------------------------------------------------------------\n",
      "                 MRR    MAP  Hit Rate@K   RMSE  Precision@K  Recall@K  F1 Score@K\n",
      "model_uu       0.788  0.739       0.961  1.009        0.565     0.409       0.475\n",
      "model_uu_opt   0.815  0.756       0.960  0.934        0.510     0.345       0.412\n",
      "model_ii       0.793  0.737       0.960  1.004        0.557     0.401       0.466\n",
      "model_ii_opt   0.818  0.757       0.960  0.934        0.511     0.344       0.411\n",
      "model_svd      0.812  0.750       0.960  0.936        0.516     0.383       0.440\n",
      "model_svd_opt  0.814  0.756       0.960  0.928        0.511     0.382       0.437\n",
      "----------------------------------------------------------------------------------\n"
     ]
    },
    {
     "data": {
      "image/png": "[encoded data removed]",
      "text/plain": [
       "<Figure size 1400x800 with 1 Axes>"
      ]
     },
     "metadata": {},
     "output_type": "display_data"
    }
   ],
   "source": [
    "# Combine all metrics into a single dictionary\n",
    "metrics = {\n",
    "    \"model_uu\": model_uu_metric[1],\n",
    "    \"model_uu_opt\": model_uu_opt_metric[1],\n",
    "    \"model_ii\": model_ii_metric[1],\n",
    "    \"model_ii_opt\": model_ii_opt_metric[1],\n",
    "    \"model_svd\": model_svd_metric[1],\n",
    "    \"model_svd_opt\": model_svd_opt_metric[1],\n",
    "}\n",
    "\n",
    "# Convert the dictionary to a DataFrame\n",
    "metrics_df = pd.DataFrame(metrics).T\n",
    "\n",
    "# Melt the DataFrame to a long format suitable for Seaborn\n",
    "metrics_df.reset_index(inplace=True)\n",
    "metrics_long = pd.melt(\n",
    "    metrics_df, id_vars=\"index\", var_name=\"Metric\", value_name=\"Score\"\n",
    ")\n",
    "\n",
    "# Rename columns for clarity\n",
    "metrics_long.columns = [\"Model\", \"Metric\", \"Score\"]\n",
    "\n",
    "# Plot using Seaborn\n",
    "plt.figure(figsize=(14, 8))\n",
    "sns.barplot(\n",
    "    x=\"Model\",\n",
    "    y=\"Score\",\n",
    "    hue=\"Metric\",\n",
    "    palette=palette_colors,\n",
    "    data=metrics_long,\n",
    "    edgecolor=\"white\",\n",
    ")\n",
    "\n",
    "# Improve the legend by placing it outside the plot\n",
    "plt.legend(bbox_to_anchor=(1.01, 1), loc=\"upper left\", borderaxespad=0.0)\n",
    "\n",
    "# Add a title and grid\n",
    "plt.title(\"Baseline vs. Tuned Model Metrics (Test Set)\")\n",
    "plt.grid(axis=\"y\", linestyle=\"--\", alpha=0.7)\n",
    "\n",
    "# Adjust layout and show the plot\n",
    "plt.tight_layout(pad=2.0)\n",
    "plt.show()"
   ]
  },
  {
   "cell_type": "code",
   "execution_count": null,
   "metadata": {},
   "outputs": [],
   "source": []
  }
 ],
 "metadata": {
  "kernelspec": {
   "display_name": "MIT",
   "language": "python",
   "name": "python3"
  },
  "language_info": {
   "codemirror_mode": {
    "name": "ipython",
    "version": 3
   },
   "file_extension": ".py",
   "mimetype": "text/x-python",
   "name": "python",
   "nbconvert_exporter": "python",
   "pygments_lexer": "ipython3",
   "version": "3.12.3"
  }
 },
 "nbformat": 4,
 "nbformat_minor": 2
}
